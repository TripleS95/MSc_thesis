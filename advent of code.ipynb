{
 "cells": [
  {
   "cell_type": "markdown",
   "metadata": {},
   "source": [
    "# Advent of Code 2021 Puzzles"
   ]
  },
  {
   "cell_type": "markdown",
   "metadata": {},
   "source": [
    "## Q1"
   ]
  },
  {
   "cell_type": "code",
   "execution_count": 1,
   "metadata": {},
   "outputs": [],
   "source": [
    "with open('AOC1.txt') as f1:\n",
    "    lines1 = f1.readlines()\n",
    "data=list(map(int, lines1))"
   ]
  },
  {
   "cell_type": "code",
   "execution_count": 2,
   "metadata": {},
   "outputs": [
    {
     "data": {
      "text/plain": [
       "1704"
      ]
     },
     "execution_count": 2,
     "metadata": {},
     "output_type": "execute_result"
    }
   ],
   "source": [
    "temp=0\n",
    "for i in range(1999):\n",
    "    if sum(data[i+1:i+4])>sum(data[i:i+3]):\n",
    "        temp+=1\n",
    "temp   "
   ]
  },
  {
   "cell_type": "markdown",
   "metadata": {},
   "source": [
    "## Q2"
   ]
  },
  {
   "cell_type": "code",
   "execution_count": 3,
   "metadata": {},
   "outputs": [],
   "source": [
    "f2=open('AOC2.txt')\n",
    "lines2 = f2.readlines()\n",
    "instructions=list(map(str.split, lines2))"
   ]
  },
  {
   "cell_type": "code",
   "execution_count": 4,
   "metadata": {},
   "outputs": [
    {
     "data": {
      "text/plain": [
       "1690020"
      ]
     },
     "execution_count": 4,
     "metadata": {},
     "output_type": "execute_result"
    }
   ],
   "source": [
    "# Part 1\n",
    "H=0\n",
    "D=0\n",
    "for i in range(len(instructions)):\n",
    "    if instructions[i][0]=='forward':\n",
    "        H+=int(instructions[i][1])\n",
    "    elif instructions[i][0]=='down':\n",
    "        D+=int(instructions[i][1])\n",
    "    else:\n",
    "        D-=int(instructions[i][1])\n",
    "H*D    "
   ]
  },
  {
   "cell_type": "code",
   "execution_count": 5,
   "metadata": {},
   "outputs": [],
   "source": [
    "# Part 2\n",
    "H=0\n",
    "D=0\n",
    "A=0\n",
    "for i in range(len(instructions)):\n",
    "    if instructions[i][0]=='up':\n",
    "        A-=int(instructions[i][1])\n",
    "    elif instructions[i][0]=='down':\n",
    "        A+=int(instructions[i][1])\n",
    "    else:\n",
    "        H+=int(instructions[i][1])\n",
    "        D+=A*int(instructions[i][1])"
   ]
  },
  {
   "cell_type": "markdown",
   "metadata": {},
   "source": [
    "## Q3"
   ]
  },
  {
   "cell_type": "code",
   "execution_count": 6,
   "metadata": {},
   "outputs": [],
   "source": [
    "with open('AOC3.txt') as f3:\n",
    "    lines3 = f3.readlines()\n",
    "data3=list(map(str.strip,lines3))"
   ]
  },
  {
   "cell_type": "code",
   "execution_count": 7,
   "metadata": {},
   "outputs": [
    {
     "data": {
      "text/plain": [
       "841526"
      ]
     },
     "execution_count": 7,
     "metadata": {},
     "output_type": "execute_result"
    }
   ],
   "source": [
    "# Part 1\n",
    "digit_sum=[0]*len(data3[0])\n",
    "\n",
    "for i in range(len(data3)):         \n",
    "    for k in range(len(data3[0])):\n",
    "        digit_sum[k]+= int(data3[i][k])\n",
    "        \n",
    "gamma=[]\n",
    "epsilon=[]\n",
    "\n",
    "for i in range(len(digit_sum)):\n",
    "    if digit_sum[i] < len(data3)/2:\n",
    "        gamma.append(0)\n",
    "        epsilon.append(1)\n",
    "    else:\n",
    "        gamma.append(1)\n",
    "        epsilon.append(0)  \n",
    "        \n",
    "epsilon_decimal=0\n",
    "gamma_decimal=0\n",
    "for i in range(len(gamma)):\n",
    "    gamma_decimal += gamma[-(i+1)]*(2**i)\n",
    "    epsilon_decimal += epsilon[-(i+1)]*(2**i)\n",
    "    \n",
    "epsilon_decimal*gamma_decimal"
   ]
  },
  {
   "cell_type": "code",
   "execution_count": 8,
   "metadata": {},
   "outputs": [],
   "source": [
    "# Part 2\n",
    "import pandas as pd\n",
    "data3_df=pd.DataFrame(list(map(list,data3)))\n",
    "data3_df=data3_df.astype(int)\n"
   ]
  },
  {
   "cell_type": "code",
   "execution_count": 9,
   "metadata": {},
   "outputs": [
    {
     "data": {
      "text/plain": [
       "4790390"
      ]
     },
     "execution_count": 9,
     "metadata": {},
     "output_type": "execute_result"
    }
   ],
   "source": [
    "OGR=data3_df\n",
    "CSR=data3_df\n",
    "\n",
    "k=-1\n",
    "while OGR.shape[0]>1:\n",
    "    k+=1\n",
    "    if k>11:\n",
    "        k=0\n",
    "\n",
    "    if OGR.iloc[:,k].sum(axis=0)>=(OGR.shape[0])/2:\n",
    "        OGR=OGR.loc[OGR.iloc[:,k]==1,:]\n",
    "    else:\n",
    "        OGR=OGR.loc[OGR.iloc[:,k]==0,:]\n",
    "\n",
    "k=-1\n",
    "while CSR.shape[0]>1:\n",
    "    k+=1\n",
    "    if k>11:\n",
    "        k=0\n",
    "    if CSR.iloc[:,k].sum(axis=0)<(CSR.shape[0])/2:\n",
    "        CSR=CSR.loc[CSR.iloc[:,k]==1,:]\n",
    "    else:\n",
    "        CSR=CSR.loc[CSR.iloc[:,k]==0,:]\n",
    "\n",
    "CSR_decimal=0\n",
    "OGR_decimal=0\n",
    "for i in range(CSR.shape[1]):\n",
    "    CSR_decimal += CSR.iloc[0,-(i+1)]*(2**i)\n",
    "    OGR_decimal += OGR.iloc[0,-(i+1)]*(2**i)\n",
    "CSR_decimal*OGR_decimal"
   ]
  },
  {
   "cell_type": "markdown",
   "metadata": {},
   "source": [
    "## Q4"
   ]
  },
  {
   "cell_type": "code",
   "execution_count": 1,
   "metadata": {},
   "outputs": [],
   "source": [
    "import pandas as pd\n",
    "import copy"
   ]
  },
  {
   "cell_type": "code",
   "execution_count": 7,
   "metadata": {},
   "outputs": [],
   "source": [
    "with open('AOC4.txt') as f4:\n",
    "    lines4 = f4.readlines()\n",
    "data4=list(map(str.strip,lines4))\n",
    "numbers=list(map(int,data4[0].split(',')))\n",
    "temp=data4[2:]\n",
    "list_of_boards=[]\n",
    "temp_list=[]\n",
    "\n",
    "\n",
    "for i in range(len(temp)):\n",
    "    if len(temp[i])==0:\n",
    "        list_of_boards.append(pd.DataFrame(temp_list))\n",
    "        temp_list=[]\n",
    "    else:\n",
    "        temp_list.append(list(map(int,temp[i].split())))\n",
    "        \n"
   ]
  },
  {
   "cell_type": "code",
   "execution_count": 3,
   "metadata": {},
   "outputs": [],
   "source": [
    "#Part 1\n",
    "temp_list=copy.deepcopy(list_of_boards)\n",
    "bingo=0\n",
    "winner_num=-1\n",
    "winner_board=-1\n",
    "\n",
    "for num in numbers:\n",
    "    for k in range(len(temp_list)):\n",
    "        mask=(temp_list[k]==num)\n",
    "        temp_list[k][mask]=-1\n",
    "        for i in range(5):\n",
    "            if temp_list[k].iloc[i,:].sum()==-5 or temp_list[k].iloc[:,i].sum()==-5:\n",
    "                bingo=1\n",
    "                winner_num=num\n",
    "                winner_board=k\n",
    "                unmarked_mask=(temp_list[k]!=-1)\n",
    "                break\n",
    "\n",
    "        if bingo==1:\n",
    "            break\n",
    "    if bingo==1:\n",
    "        break"
   ]
  },
  {
   "cell_type": "code",
   "execution_count": 4,
   "metadata": {},
   "outputs": [
    {
     "data": {
      "text/plain": [
       "63424.0"
      ]
     },
     "execution_count": 4,
     "metadata": {},
     "output_type": "execute_result"
    }
   ],
   "source": [
    "Part1_answer=(list_of_boards[winner_board][unmarked_mask].unstack().sum())*winner_num\n",
    "Part1_answer"
   ]
  },
  {
   "cell_type": "code",
   "execution_count": 14,
   "metadata": {},
   "outputs": [],
   "source": [
    "# Part 2\n",
    "temp_list=copy.deepcopy(list_of_boards)\n",
    "i=-1\n",
    "winner_boards=[]\n",
    "while len(winner_boards)<(len(temp_list)-1):\n",
    "    i+=1\n",
    "    for k in range(len(temp_list)):\n",
    "        if len(winner_boards)==(len(temp_list)-1):\n",
    "            break\n",
    "        if k in winner_boards:\n",
    "            pass\n",
    "        else:\n",
    "            loser_board=[x for x in list(range(len(temp_list))) if x not in winner_boards]\n",
    "            loser_mask=(temp_list[loser_board[0]]!=-1)\n",
    "            last_num=numbers[i]\n",
    "            mask=(temp_list[k]==numbers[i])\n",
    "            temp_list[k][mask]=-1\n",
    "            for count in range(5):\n",
    "                if temp_list[k].iloc[count,:].sum()==-5 or temp_list[k].iloc[:,count].sum()==-5:\n",
    "                    winner_boards.append(k)\n",
    "                    break\n",
    "    "
   ]
  },
  {
   "cell_type": "code",
   "execution_count": 15,
   "metadata": {},
   "outputs": [],
   "source": [
    "# Part 2\n",
    "temp_list=copy.deepcopy(list_of_boards)\n",
    "i=-1\n",
    "winner_boards=[]\n",
    "while True:\n",
    "    flag=(len(winner_boards)==(len(temp_list)))\n",
    "    if flag:\n",
    "        break\n",
    "    i+=1\n",
    "    for k in range(len(temp_list)):\n",
    "        if flag:\n",
    "            break\n",
    "        if k in winner_boards:\n",
    "            pass\n",
    "        else:\n",
    "            mask=(temp_list[k]==numbers[i])\n",
    "            temp_list[k][mask]=-1\n",
    "            for count in range(5):\n",
    "                if (temp_list[k].iloc[count,:].sum()==-5) or (temp_list[k].iloc[:,count].sum()==-5):\n",
    "                    winner_boards.append(k)\n",
    "                    break\n",
    "            loser_board=k\n",
    "            loser_mask=(temp_list[loser_board]!=-1)                    \n",
    "            last_num=numbers[i]"
   ]
  },
  {
   "cell_type": "code",
   "execution_count": 16,
   "metadata": {},
   "outputs": [
    {
     "data": {
      "text/plain": [
       "23541.0"
      ]
     },
     "execution_count": 16,
     "metadata": {},
     "output_type": "execute_result"
    }
   ],
   "source": [
    "Part2_answer=(list_of_boards[loser_board][loser_mask].unstack().sum())*last_num\n",
    "Part2_answer"
   ]
  },
  {
   "cell_type": "markdown",
   "metadata": {},
   "source": [
    "## Q5"
   ]
  },
  {
   "cell_type": "code",
   "execution_count": 17,
   "metadata": {},
   "outputs": [],
   "source": [
    "import pandas as pd\n",
    "import regex as re\n",
    "import numpy as np\n",
    "from itertools import repeat\n",
    "with open('AOC5.txt') as f5:\n",
    "    lines5 = f5.readlines()\n",
    "X1=list(map(re.findall,repeat('(^\\d+),'),lines5))\n",
    "Y1=list(map(re.findall,repeat('(?<=,)\\d+(?=\\s->)'),lines5))\n",
    "X2=list(map(re.findall,repeat('(?<=->\\s)\\d+'),lines5))\n",
    "Y2=list(map(re.findall,repeat('(?<=,)\\d+(?=\\s$)'),lines5))\n",
    "for i in range(len(X1)):\n",
    "    X1[i]=X1[i][0]\n",
    "    Y1[i]=Y1[i][0]\n",
    "    X2[i]=X2[i][0]\n",
    "    Y2[i]=Y2[i][0]\n"
   ]
  },
  {
   "cell_type": "code",
   "execution_count": 18,
   "metadata": {},
   "outputs": [],
   "source": [
    "df5=pd.DataFrame()\n",
    "df5['X1']=X1\n",
    "df5['Y1']=Y1\n",
    "df5['X2']=X2\n",
    "df5['Y2']=Y2\n",
    "df5=df5.astype(int)\n",
    "\n",
    "df5['slope']=(df5['Y2']-df5['Y1'])/(df5['X2']-df5['X1'])\n",
    "df5.loc[(df5['X2']-df5['X1'])==0,'slope']='V'\n",
    "df5.loc[(df5['Y2']-df5['Y1'])==0,'slope']='H'\n",
    "grid=pd.DataFrame(np.zeros((1000,1000)),index=range(1000),columns=range(1000)).astype(int)"
   ]
  },
  {
   "cell_type": "code",
   "execution_count": 19,
   "metadata": {},
   "outputs": [
    {
     "data": {
      "text/plain": [
       "5442"
      ]
     },
     "execution_count": 19,
     "metadata": {},
     "output_type": "execute_result"
    }
   ],
   "source": [
    "# Part 1\n",
    "HorV=df5.loc[((df5['slope']=='H') | (df5['slope']=='V')),:]\n",
    "HorV.index=range(HorV.shape[0])\n",
    "\n",
    "for k in HorV.index:\n",
    "    X_low=min(HorV.iloc[k,0],HorV.iloc[k,2])\n",
    "    X_high=max(HorV.iloc[k,0],HorV.iloc[k,2])\n",
    "    Y_low=min(HorV.iloc[k,1],HorV.iloc[k,3])\n",
    "    Y_high=max(HorV.iloc[k,1],HorV.iloc[k,3])\n",
    "    if HorV.iloc[k,-1]=='V':\n",
    "        grid.iloc[X_low,Y_low:(Y_high+1)]+=1\n",
    "    else:\n",
    "        grid.iloc[X_low:(X_high+1),Y_low]+=1\n",
    "grid[grid>1].count().sum()"
   ]
  },
  {
   "cell_type": "code",
   "execution_count": 20,
   "metadata": {},
   "outputs": [
    {
     "name": "stderr",
     "output_type": "stream",
     "text": [
      "<ipython-input-20-56081723972c>:4: SettingWithCopyWarning: \n",
      "A value is trying to be set on a copy of a slice from a DataFrame.\n",
      "Try using .loc[row_indexer,col_indexer] = value instead\n",
      "\n",
      "See the caveats in the documentation: https://pandas.pydata.org/pandas-docs/stable/user_guide/indexing.html#returning-a-view-versus-a-copy\n",
      "  Non_HorV['bias']=Non_HorV['Y1']-Non_HorV['slope']*Non_HorV['X1']\n"
     ]
    }
   ],
   "source": [
    "# Part 2\n",
    "Non_HorV=df5.loc[((df5['slope']!='H') & (df5['slope']!='V')),:]\n",
    "Non_HorV.index=range(Non_HorV.shape[0])\n",
    "Non_HorV['bias']=Non_HorV['Y1']-Non_HorV['slope']*Non_HorV['X1']\n",
    "\n",
    "for k in Non_HorV.index:\n",
    "    X_low=min(Non_HorV.iloc[k,0],Non_HorV.iloc[k,2])\n",
    "    X_high=max(Non_HorV.iloc[k,0],Non_HorV.iloc[k,2])\n",
    "    Y_low=min(Non_HorV.iloc[k,1],Non_HorV.iloc[k,3])\n",
    "    Y_high=max(Non_HorV.iloc[k,1],Non_HorV.iloc[k,3])\n",
    "    x_range=list(range(X_low,(X_high+1)))\n",
    "    y_range=list(range(Y_low,(Y_high+1)))\n",
    "    b=Non_HorV.iloc[k,5]\n",
    "    a=Non_HorV.iloc[k,4]\n",
    "    lis=[(x, y) for x in x_range for y in y_range if y == (a*x+b)]\n",
    "    for val in lis:\n",
    "        grid.iloc[val]+=1"
   ]
  },
  {
   "cell_type": "code",
   "execution_count": 21,
   "metadata": {},
   "outputs": [
    {
     "data": {
      "text/plain": [
       "19571"
      ]
     },
     "execution_count": 21,
     "metadata": {},
     "output_type": "execute_result"
    }
   ],
   "source": [
    "grid[grid>1].count().sum()"
   ]
  },
  {
   "cell_type": "markdown",
   "metadata": {},
   "source": [
    "## Q6"
   ]
  },
  {
   "cell_type": "code",
   "execution_count": 22,
   "metadata": {},
   "outputs": [],
   "source": [
    "import pandas as pd\n",
    "from itertools import repeat\n",
    "with open('AOC6.txt') as f6:\n",
    "    lines6 = f6.readlines()\n",
    "data6=list(map(re.findall,repeat('(?<=,)\\d+(?=,)'),lines6))\n",
    "data6[0].insert(0,lines6[0][0])\n",
    "data6[0].append(lines6[0][-2])\n",
    "data6=data6[0]"
   ]
  },
  {
   "cell_type": "code",
   "execution_count": 23,
   "metadata": {},
   "outputs": [
    {
     "data": {
      "text/plain": [
       "355386"
      ]
     },
     "execution_count": 23,
     "metadata": {},
     "output_type": "execute_result"
    }
   ],
   "source": [
    "# part 1:with a very bad algorithm\n",
    "ser6=pd.Series(data6).astype(int)\n",
    "i=0\n",
    "while i<80:\n",
    "    i+=1\n",
    "    ser6=ser6-1\n",
    "    l=len(ser6.loc[ser6==-1])\n",
    "    ser6.loc[ser6==-1]=6\n",
    "    temp_ser=pd.Series(([8]*l),dtype=int)\n",
    "    ser6=ser6.append(temp_ser, ignore_index=True)\n",
    "    \n",
    "len(ser6)"
   ]
  },
  {
   "cell_type": "code",
   "execution_count": 46,
   "metadata": {},
   "outputs": [
    {
     "data": {
      "text/plain": [
       "1613415325809.0"
      ]
     },
     "execution_count": 46,
     "metadata": {},
     "output_type": "execute_result"
    }
   ],
   "source": [
    "# part 2\n",
    "data6=[int(i) for i in open(\"AOC6.txt\", \"r\").read().split(',')]\n",
    "ser6=pd.Series(np.zeros(9))\n",
    "for i in range(9):\n",
    "    ser6[i]=data6.count(i)\n",
    "ser6.astype(int)\n",
    "\n",
    "i=0\n",
    "while i<256:\n",
    "    i+=1\n",
    "    temp=copy.deepcopy(ser6)\n",
    "    ser6[0]=temp[1]\n",
    "    ser6[1]=temp[2]\n",
    "    ser6[2]=temp[3]\n",
    "    ser6[3]=temp[4]\n",
    "    ser6[4]=temp[5]\n",
    "    ser6[5]=temp[6]\n",
    "    ser6[6]=temp[7]+temp[0]\n",
    "    ser6[7]=temp[8]\n",
    "    ser6[8]=temp[0]\n"
   ]
  },
  {
   "cell_type": "markdown",
   "metadata": {},
   "source": [
    "## Q7"
   ]
  },
  {
   "cell_type": "code",
   "execution_count": null,
   "metadata": {},
   "outputs": [],
   "source": [
    "import pandas as pd\n",
    "with open('AOC7.txt') as f7:\n",
    "    lines7 = list(map(int,f7.read().split(',')))\n",
    "\n",
    "# Part1\n",
    "ser7=pd.Series(lines7)\n",
    "abs(ser7-ser7.median()//1).sum()"
   ]
  },
  {
   "cell_type": "code",
   "execution_count": 64,
   "metadata": {},
   "outputs": [
    {
     "data": {
      "text/plain": [
       "91638945.0"
      ]
     },
     "execution_count": 64,
     "metadata": {},
     "output_type": "execute_result"
    }
   ],
   "source": [
    "#Part 2\n",
    "med=int(ser7.median())\n",
    "mea=int(ser7.mean())\n",
    "mod=int(ser7.mode())\n",
    "centric_metrics=[mod,mea,med]\n",
    "this_range=range((min(centric_metrics)-1),(max(centric_metrics)+1))\n",
    "\n",
    "fuel_min=0\n",
    "for count,ele in enumerate(this_range):\n",
    "    cost_function=abs(ser7-ele)\n",
    "    fuel=(cost_function*(cost_function+1)/2).sum()\n",
    "    if count==0:\n",
    "        fuel_min=fuel\n",
    "    else:\n",
    "        fuel_min=min([fuel_min,fuel])\n",
    "fuel"
   ]
  },
  {
   "cell_type": "markdown",
   "metadata": {},
   "source": [
    "## Q8"
   ]
  },
  {
   "cell_type": "code",
   "execution_count": null,
   "metadata": {},
   "outputs": [],
   "source": []
  }
 ],
 "metadata": {
  "kernelspec": {
   "display_name": "Python 3",
   "language": "python",
   "name": "python3"
  },
  "language_info": {
   "codemirror_mode": {
    "name": "ipython",
    "version": 3
   },
   "file_extension": ".py",
   "mimetype": "text/x-python",
   "name": "python",
   "nbconvert_exporter": "python",
   "pygments_lexer": "ipython3",
   "version": "3.8.5"
  }
 },
 "nbformat": 4,
 "nbformat_minor": 4
}
