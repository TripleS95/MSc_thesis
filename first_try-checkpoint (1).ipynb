{
 "cells": [
  {
   "cell_type": "code",
   "execution_count": 3,
   "metadata": {},
   "outputs": [],
   "source": [
    "#loading data\n",
    "\n",
    "import numpy as np\n",
    "import pandas as pd\n",
    "from pandas import ExcelWriter\n",
    "from pandas import ExcelFile\n",
    "data=pd.read_excel(r'D:\\Personal\\University\\Master\\Thesis\\Aggregation-Weighting\\data_values.xlsx',sheet_name='data_transpose')\n",
    "rainfall_data=pd.read_excel(r'D:\\Personal\\University\\Master\\Thesis\\Aggregation-Weighting\\rainfall_data.xlsx',sheet_name='Sheet1')"
   ]
  },
  {
   "cell_type": "code",
   "execution_count": 21,
   "metadata": {},
   "outputs": [],
   "source": [
    "#deleting unwanted data (data before 1366)\n",
    "rainfall_modified=rainfall_data.loc[(rainfall_data['syear']>1366)]\n",
    "\n",
    "#making a dictionary of provinces and their respective data\n",
    "pr=list(rainfall_modified.ostan.unique())\n",
    "prdict={elem:pd.DataFrame() for elem in pr}\n",
    "for key in prdict.keys():\n",
    "    prdict[key]=rainfall_modified[:][rainfall_modified.ostan==key]\n",
    "    \n",
    "#making a dictionary consisting of province names as keys and annual precip\n",
    "annualrain_dict={x:pd.DataFrame() for x in pr}\n",
    "for key in annualrain_dict.keys():\n",
    "    annualrain_dict[key]=prdict[key].groupby('syear').precnew.sum()"
   ]
  },
  {
   "cell_type": "code",
   "execution_count": 21,
   "metadata": {},
   "outputs": [],
   "source": [
    "#writing annual rainfall to excel    \n",
    "writer = pd.ExcelWriter('annual_rain.xlsx', engine='xlsxwriter')\n",
    "for sheet, frame in  annualrain_dict.items():\n",
    "    frame.to_excel(writer, sheet_name = sheet)\n",
    "writer.save()"
   ]
  },
  {
   "cell_type": "code",
   "execution_count": null,
   "metadata": {},
   "outputs": [],
   "source": [
    "#calculating coefficients of variability for all the provinces\n",
    "\n"
   ]
  },
  {
   "cell_type": "code",
   "execution_count": 26,
   "metadata": {},
   "outputs": [],
   "source": [
    "#Creating a dataframe consisting of necessary variables for the calculation of sub-indicators\n",
    "\n",
    "variables=pd.DataFrame()\n",
    "variables['province']=data.province\n",
    "variables['irwr']=data.precipitation-data.evaporation\n",
    "variables['surf_irwr']=(data.precipitation-data.evaporation)*data.runoff_coeff\n",
    "variables['withdraw_surf']=data.iloc[:,5:8].sum(axis=1)\n",
    "variables['gw_irwr']=(data.precipitation-data.evaporation)*(1-data.runoff_coeff)\n",
    "variables['withdraw_gw']=data.iloc[:,8:11].sum(axis=1)\n",
    "variables['withdraw_agr']=data.withdraw_gw_agr+data.withdraw_surf_agr\n",
    "variables['withdraw_ind']=data.withdraw_gw_ind+data.withdraw_surf_ind\n",
    "variables['access_sanitation_total']=(data.access_sanitation_urban*data.urban_pop_ratio+data.access_sanitation_rural*(1-data.urban_pop_ratio))\n",
    "variables['deficit_gw_annual']=data.annual_gw_variation*(-1)\n",
    "variables['deficit_gw_aggregate']=data.aggregate_gw_variation*(-1)\n",
    "\n",
    "#deleting negative deficits\n",
    "\n",
    "variables.loc[variables['deficit_gw_annual'] < 0 ,'deficit_gw_annual']=0\n",
    "variables.loc[variables['deficit_gw_aggregate'] < 0 ,'deficit_gw_aggregate']=0\n",
    "variables['withdraw_gw_allowable']=variables.gw_irwr-(variables.deficit_gw_aggregate/17)\n",
    "variables['withdraw_agr_decrease']=variables.withdraw_gw-variables.withdraw_gw_allowable\n",
    "variables.loc[variables['withdraw_agr_decrease']<0,'withdraw_agr_decrease']=0\n",
    "variables['agrwat_lost_ratio']=variables.withdraw_agr_decrease/variables.withdraw_agr"
   ]
  },
  {
   "cell_type": "code",
   "execution_count": null,
   "metadata": {},
   "outputs": [],
   "source": [
    "#Creating a dataframe in order to calculate the sub-indicators\n",
    "\n",
    "sub_indicators=pd.DataFrame()\n",
    "sub_indicators['irwr_percap']=variables.irwr*(10**6)/data.population\n",
    "sub_indicators['withdraw_surf_ratio']=variables.withdraw_surf/variables.surf_irwr\n",
    "sub_indicators['withdraw_gw_ratio']=variables.withdraw_gw/variables.gw_irwr\n",
    "sub_indicators['gw_andef_withdraw']=variables.deficit_gw_annual*100/variables.withdraw_gw\n",
    "sub_indicators['gw_agdef_gwrwr']=variables.deficit_gw_aggregate*100/variables.gw_irwr\n",
    "sub_indicators['agr_dependency_gw']=data.withdraw_gw_agr/variables.withdraw_agr\n",
    "sub_indicators['urbanwat_dependency_gw']=data.withdraw_urban_gw/data.produced_urban_wat\n",
    "sub_indicators['ruralwat_dependency_gw']=data.withdraw_rural_gw/data.produced_rural_wat\n",
    "sub_indicators['quality_proxy']=data.urban_fam_treatwat/data.total_urban_fam\n",
    "sub_indicators['efficiency_agr']=data.agr_added_value*(data.land_irrig_tot/data.land_agr_tot)/variables.withdraw_agr\n",
    "sub_indicators['modern_irrig']=data.land_irrig_modern/data.land_irrig_tot\n",
    "sub_indicators['efficiency_ind']=data.ind_added_value/variables.withdraw_ind\n",
    "sub_indicators['employment_lost_agr']=variables.agrwat_lost_ratio*data.agr_employment\n",
    "sub_indicators['treated_municipal_wastewater']=data.waste_facility_cap*100/data.daily_produced_waste\n",
    "sub_indicators['damcap_rwr_ratio']=data.dam_cap*100/variables.surf_irwr"
   ]
  },
  {
   "cell_type": "code",
   "execution_count": null,
   "metadata": {},
   "outputs": [],
   "source": []
  }
 ],
 "metadata": {
  "kernelspec": {
   "display_name": "Python 3",
   "language": "python",
   "name": "python3"
  },
  "language_info": {
   "codemirror_mode": {
    "name": "ipython",
    "version": 3
   },
   "file_extension": ".py",
   "mimetype": "text/x-python",
   "name": "python",
   "nbconvert_exporter": "python",
   "pygments_lexer": "ipython3",
   "version": "3.8.5"
  }
 },
 "nbformat": 4,
 "nbformat_minor": 4
}
