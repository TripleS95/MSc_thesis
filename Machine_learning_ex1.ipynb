{
 "cells": [
  {
   "cell_type": "code",
   "execution_count": 80,
   "metadata": {},
   "outputs": [],
   "source": [
    "import regex as re\n",
    "import pandas as pd\n",
    "import numpy as np"
   ]
  },
  {
   "cell_type": "code",
   "execution_count": 137,
   "metadata": {},
   "outputs": [],
   "source": [
    "data=[]\n",
    "with open('ex1data1.txt') as f:\n",
    "    for line in f:\n",
    "        data.append(line.split(\",\"))    \n",
    "X=[]\n",
    "y=[]\n",
    "for elem in data:\n",
    "    X.append(float(elem[0]))\n",
    "    y.append(float(re.sub('\\n', '',elem[1])))"
   ]
  },
  {
   "cell_type": "code",
   "execution_count": 138,
   "metadata": {},
   "outputs": [],
   "source": [
    "m=len(y)\n",
    "X_data=[list(np.ones(m))]+[X]\n",
    "X_df=pd.DataFrame(X_data)\n",
    "X_df=X_df.transpose()\n",
    "X_df.columns=['X0','X1']\n",
    "y_ser=pd.Series(y)"
   ]
  },
  {
   "cell_type": "code",
   "execution_count": 140,
   "metadata": {},
   "outputs": [
    {
     "data": {
      "text/plain": [
       "theta0   -3.840926\n",
       "theta1    1.187523\n",
       "dtype: float64"
      ]
     },
     "execution_count": 140,
     "metadata": {},
     "output_type": "execute_result"
    }
   ],
   "source": [
    "theta=pd.Series([0.0,0.0],index=['theta0','theta1'])\n",
    "alpha=0.01\n",
    "cost_function=[100,50]\n",
    "i=0\n",
    "while i<10 or t>1e-06:\n",
    "    i+=1\n",
    "    predicted_points=X_df.multiply(np.array(theta))\n",
    "    t=cost_function[i-1]-cost_function[i]\n",
    "    cost_function.append(((predicted_points.sum(axis=1)-y_ser)**2).sum()/(2*m))\n",
    "    error_terms=predicted_points.sum(axis=1)-y_ser\n",
    "    temp=X_df.multiply(error_terms,axis=0).sum()\n",
    "    theta=theta.subtract(np.array(temp*(alpha/m)))\n",
    "theta"
   ]
  },
  {
   "cell_type": "code",
   "execution_count": 143,
   "metadata": {},
   "outputs": [
    {
     "data": {
      "text/plain": [
       "2"
      ]
     },
     "execution_count": 143,
     "metadata": {},
     "output_type": "execute_result"
    }
   ],
   "source": [
    "cost_function=[100,50]\n",
    "len(cost_function)\n"
   ]
  },
  {
   "cell_type": "code",
   "execution_count": null,
   "metadata": {},
   "outputs": [],
   "source": []
  }
 ],
 "metadata": {
  "kernelspec": {
   "display_name": "Python 3",
   "language": "python",
   "name": "python3"
  },
  "language_info": {
   "codemirror_mode": {
    "name": "ipython",
    "version": 3
   },
   "file_extension": ".py",
   "mimetype": "text/x-python",
   "name": "python",
   "nbconvert_exporter": "python",
   "pygments_lexer": "ipython3",
   "version": "3.8.5"
  }
 },
 "nbformat": 4,
 "nbformat_minor": 4
}
