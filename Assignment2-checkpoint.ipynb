{
 "cells": [
  {
   "cell_type": "markdown",
   "metadata": {},
   "source": [
    "Assignment 2"
   ]
  },
  {
   "cell_type": "code",
   "execution_count": null,
   "metadata": {},
   "outputs": [],
   "source": [
    "# Q1\n",
    "import pandas as pd\n",
    "df=pd.read_csv('assets/NISPUF17.csv')\n",
    "def proportion_of_education():\n",
    "    education=df['EDUC1'].dropna()\n",
    "\n",
    "    counter=[]\n",
    "    for i in range(4):\n",
    "        counter.append(education[education==(i+1)].count()/education.count())\n",
    "    key_list=['less than high school','high school','more than high school but not college','college']\n",
    "    result={key_list[i]: counter[i] for i in range(len(key_list))}\n",
    "    return result\n",
    "#     raise NotImplementedError()"
   ]
  },
  {
   "cell_type": "code",
   "execution_count": null,
   "metadata": {},
   "outputs": [],
   "source": [
    "# Q2\n",
    "def average_influenza_doses():\n",
    "    df_new=df[(df['CBF_01']>0)&(df['CBF_01']<3)]\n",
    "    df_new=df_new[['CBF_01','P_NUMFLU']].dropna()\n",
    "    series=df_new.groupby('CBF_01').P_NUMFLU.mean()\n",
    "    result=tuple(series)\n",
    "    return result\n",
    "#     raise NotImplementedError()"
   ]
  }
 ],
 "metadata": {
  "kernelspec": {
   "display_name": "Python 3",
   "language": "python",
   "name": "python3"
  },
  "language_info": {
   "codemirror_mode": {
    "name": "ipython",
    "version": 3
   },
   "file_extension": ".py",
   "mimetype": "text/x-python",
   "name": "python",
   "nbconvert_exporter": "python",
   "pygments_lexer": "ipython3",
   "version": "3.8.5"
  }
 },
 "nbformat": 4,
 "nbformat_minor": 4
}
