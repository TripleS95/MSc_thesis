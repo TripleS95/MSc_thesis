{
 "cells": [
  {
   "cell_type": "code",
   "execution_count": 1,
   "metadata": {},
   "outputs": [],
   "source": [
    "#Read main data\n",
    "\n",
    "import numpy as np\n",
    "import pandas as pd\n",
    "from pandas import ExcelWriter\n",
    "from pandas import ExcelFile\n",
    "data=pd.read_excel(r'D:\\Personal\\University\\Master\\Thesis\\Aggregation-Weighting\\data_values.xlsx',sheet_name='data_transpose')\n",
    "rainfall_data=pd.read_excel(r'D:\\Personal\\University\\Master\\Thesis\\Aggregation-Weighting\\rainfall_data.xlsx',sheet_name='Sheet1')\n",
    "\n",
    "# Read data necessary for normalization\n",
    "ind_type=pd.read_excel(r'D:\\Personal\\University\\Master\\Thesis\\Aggregation-Weighting\\indicator_type.xlsx',sheet_name='Sheet1')"
   ]
  },
  {
   "cell_type": "code",
   "execution_count": 2,
   "metadata": {},
   "outputs": [],
   "source": [
    "#defining normalization function for (dam capicity)/(surface rwr)\n",
    "def damcap_normalize(ser1,ser2):\n",
    "    result=ser1.copy()\n",
    "    length=ser1.size\n",
    "    for i in range(length):\n",
    "        if ser1[i]>=ser2[i]:\n",
    "            result[i]=(ser1.max()-ser1[i])/(ser1.max()-ser2[i])\n",
    "        else:\n",
    "            result[i]=(ser1[i]-ser1.min())/(ser2[i]-ser1.min())\n",
    "        if result[i]<0.01:\n",
    "            result[i]=0.01\n",
    "    return result  \n",
    "\n",
    "#defining aggregation function\n",
    "def aggregate(df,a=0.5):\n",
    "    size=len(df.columns)\n",
    "    result=(df.product(axis=1)**(1/size))*a+df.mean(axis=1)*(1-a)\n",
    "    return result"
   ]
  },
  {
   "cell_type": "code",
   "execution_count": 3,
   "metadata": {},
   "outputs": [],
   "source": [
    "#selecting rainfall data after 1366 (nearly 30 years)\n",
    "rainfall_modified=rainfall_data.loc[(rainfall_data['syear']>1366) & (rainfall_data['syear']<1399)]\n",
    "\n",
    "#making a dictionary of provinces and their respective data\n",
    "pr=list(rainfall_modified.ostan.unique())\n",
    "prdict={elem:pd.DataFrame() for elem in pr}\n",
    "for key in prdict.keys():\n",
    "    prdict[key]=rainfall_modified[:][rainfall_modified.ostan==key]\n",
    "    \n",
    "#making a dictionary consisting of province names as keys and annual precipitation as respective values\n",
    "annualrain_dict={x:pd.DataFrame() for x in pr}\n",
    "for key in annualrain_dict.keys():\n",
    "    annualrain_dict[key]=prdict[key].groupby('syear').precnew.sum()\n",
    "\n",
    "#calculating coefficients of variation\n",
    "interannual_varicoef={x:pd.DataFrame() for x in pr}\n",
    "for key in interannual_varicoef.keys():\n",
    "    interannual_varicoef[key]=annualrain_dict[key].std()/annualrain_dict[key].mean()\n",
    "monthly_varicoef={x:pd.DataFrame() for x in pr}\n",
    "for key in monthly_varicoef.keys():\n",
    "    monthly_varicoef[key]=prdict[key].precnew.std()/prdict[key].precnew.mean()\n",
    "annualevap_varicoef={x:pd.DataFrame() for x in pr}\n",
    "\n",
    "#converting monthly coefficient of variation to dataframe and sorting it based on original data\n",
    "monthlyvaricoeff_df = pd.DataFrame(monthly_varicoef.items(),columns=['province', 'monthly_varicoeff'])\n",
    "monthlyvaricoeff_df = monthlyvaricoeff_df.drop([31])\n",
    "monthlyvaricoeff_df = monthlyvaricoeff_df.set_index('province')\n",
    "monthlyvaricoeff_df = monthlyvaricoeff_df.reindex(index=data['province'])\n",
    "monthlyvaricoeff_df = monthlyvaricoeff_df.reset_index()\n",
    "\n",
    "#converting annual coefficient of variation to dataframe and sorting it based on original data\n",
    "intanvaricoeff_df = pd.DataFrame(interannual_varicoef.items(),columns=['province', 'rain_coeff_variability'])\n",
    "intanvaricoeff_df = intanvaricoeff_df.drop([31])\n",
    "intanvaricoeff_df = intanvaricoeff_df.set_index('province')\n",
    "intanvaricoeff_df = intanvaricoeff_df.reindex(index=data['province'])\n",
    "intanvaricoeff_df = intanvaricoeff_df.reset_index()\n",
    "\n",
    "# adding calculated coefficients of variation to the data\n",
    "data['rain_coeff_variation']=intanvaricoeff_df['rain_coeff_variability']\n",
    "data['monthly_varicoeff']= monthlyvaricoeff_df['monthly_varicoeff']"
   ]
  },
  {
   "cell_type": "code",
   "execution_count": 4,
   "metadata": {},
   "outputs": [],
   "source": [
    "#Creating a dataframe consisting of necessary variables for the calculation of sub-indicators\n",
    "variables=pd.DataFrame()\n",
    "variables['province']=data.province\n",
    "variables['irwr']=data.precipitation-data.evaporation\n",
    "variables['surf_irwr']=(data.precipitation-data.evaporation)*data.runoff_coeff\n",
    "variables['withdraw_surf']=data.iloc[:,5:8].sum(axis=1)\n",
    "variables['gw_irwr']=(data.precipitation-data.evaporation)*(1-data.runoff_coeff)\n",
    "variables['withdraw_gw']=data.iloc[:,8:11].sum(axis=1)\n",
    "variables['withdraw_agr']=data.withdraw_gw_agr+data.withdraw_surf_agr\n",
    "variables['withdraw_ind']=data.withdraw_gw_ind+data.withdraw_surf_ind\n",
    "variables['access_sanitation_total']=(data.access_sanitation_urban*data.urban_pop_ratio+data.access_sanitation_rural*(1-data.urban_pop_ratio))\n",
    "variables['deficit_gw_annual']=data.annual_gw_variation*(-1)\n",
    "variables['deficit_gw_aggregate']=data.aggregate_gw_variation*(-1)\n",
    "variables['withdraw_total']=np.NaN\n",
    "variables['withdraw_total']=data[['withdraw_surf_agr','withdraw_surf_ind','withdraw_surf_dom','withdraw_gw_agr','withdraw_gw_ind','withdraw_gw_dom']].sum(axis=1)\n",
    "variables['agr_withdraw_ratio']=variables['withdraw_agr']/variables['withdraw_total']\n",
    "variables['access_sanitation_total']=data['access_sanitation_urban']*data['urban_pop_ratio']+data['access_sanitation_rural']*(1-data['urban_pop_ratio'])\n",
    "\n",
    "#setting negative deficit values equal to zero\n",
    "variables.loc[variables['deficit_gw_annual'] < 0 ,'deficit_gw_annual']=0\n",
    "variables.loc[variables['deficit_gw_aggregate'] < 0 ,'deficit_gw_aggregate']=0\n",
    "variables['withdraw_gw_allowable']=variables.gw_irwr-(variables.deficit_gw_aggregate/20)\n",
    "variables['withdraw_agr_decrease']=variables.withdraw_gw-variables.withdraw_gw_allowable\n",
    "variables.loc[variables['withdraw_agr_decrease']<0,'withdraw_agr_decrease']=0\n",
    "variables['agrwat_lost_ratio']=variables.withdraw_agr_decrease/variables.withdraw_agr"
   ]
  },
  {
   "cell_type": "code",
   "execution_count": 5,
   "metadata": {},
   "outputs": [],
   "source": [
    "#Creating a dataframe for the sub-indicators\n",
    "#Dimension 1: Resources\n",
    "sub_indicators=pd.DataFrame()\n",
    "sub_indicators['irwr_percap']=variables.irwr*(10**6)/data.population\n",
    "sub_indicators['pop_growth']=1+data['pop_growth']/100\n",
    "sub_indicators['irwr_percap']=sub_indicators['irwr_percap']/sub_indicators['pop_growth']\n",
    "sub_indicators['rain_coeff_variation']=data['rain_coeff_variation']\n",
    "sub_indicators['monthly_varicoeff']=data['monthly_varicoeff']\n",
    "sub_indicators['anomaly_rain']=abs(data['anomaly_rain'])\n",
    "sub_indicators['anomaly_temp']=data['anomaly_temp']\n",
    "sub_indicators['withdraw_surf_ratio']=variables.withdraw_surf/variables.surf_irwr\n",
    "sub_indicators['withdraw_gw_ratio']=variables.withdraw_gw/variables.gw_irwr\n",
    "sub_indicators['gw_andef_withdraw']=variables.deficit_gw_annual/variables.withdraw_gw\n",
    "sub_indicators['gw_agdef_gwrwr']=variables.deficit_gw_aggregate/variables.gw_irwr\n",
    "sub_indicators['agr_dependency_gw']=data.withdraw_gw_agr/variables.withdraw_agr\n",
    "sub_indicators['urbanwat_dependency_gw']=data.withdraw_urban_gw/data.produced_urban_wat\n",
    "sub_indicators['ruralwat_dependency_gw']=data.withdraw_rural_gw/data.produced_rural_wat\n",
    "sub_indicators['ind_dependency_gw']=data.withdraw_gw_ind/variables.withdraw_ind\n",
    "#Dimension 2: access\n",
    "sub_indicators['quality_proxy']=data.urban_fam_treatwat/data.total_urban_fam\n",
    "sub_indicators['access_wat_urban']=data['access_wat_urban']\n",
    "sub_indicators['access_wat_rural']=data['access_wat_rural']\n",
    "sub_indicators['access_sanitation_urban']=data['access_sanitation_urban']\n",
    "sub_indicators['access_sanitation_rural']=data['access_sanitation_rural']\n",
    "sub_indicators['treated_municipal_wastewater']=data.waste_facility_cap/data.daily_produced_waste\n",
    "sub_indicators['under_stress_pop']=data['under_stress_pop']\n",
    "#Dimension 3:Economy\n",
    "sub_indicators['efficiency_agr']=data.agr_added_value/variables.withdraw_agr\n",
    "sub_indicators['modern_irrig']=data.land_irrig_modern/data.land_irrig_tot\n",
    "sub_indicators['efficiency_ind']=data.ind_added_value/variables.withdraw_ind\n",
    "sub_indicators['unaccounted_wat_urban']=data['unaccounted_wat_urban']\n",
    "sub_indicators['unaccounted_wat_rural']=data['unaccounted_wat_rural']\n",
    "sub_indicators['employment_lost_agr']=variables.agrwat_lost_ratio*data.agr_employment\n",
    "sub_indicators['damcap_rwr_ratio']=data.dam_cap/variables.surf_irwr\n",
    "sub_indicators.index=variables['province']\n",
    "\n",
    "sub_indicators.loc['khuz','damcap_rwr_ratio']=1\n",
    "sub_indicators.drop('pop_growth',axis=1,inplace=True)"
   ]
  },
  {
   "cell_type": "code",
   "execution_count": 6,
   "metadata": {},
   "outputs": [],
   "source": [
    "# from numpy.linalg import eig\n",
    "from numpy import eye, asarray, dot, sum, diag\n",
    "from numpy.linalg import svd\n",
    "from scipy.sparse.linalg import eigs\n",
    "from scipy.sparse.linalg import eigsh"
   ]
  },
  {
   "cell_type": "code",
   "execution_count": 7,
   "metadata": {},
   "outputs": [],
   "source": [
    "def PCA(df):\n",
    "    st=df*0\n",
    "    for col in df.columns:\n",
    "        st[col]=(df[col]-df[col].mean())/df[col].std()\n",
    "    st_cov=st.cov()\n",
    "    size= len(df.columns)\n",
    "    eigenvals, eigenvec =eigs(st_cov,k=(size-1),which='LM')\n",
    "    return (eigenvals,eigenvec)"
   ]
  },
  {
   "cell_type": "code",
   "execution_count": 29,
   "metadata": {},
   "outputs": [
    {
     "data": {
      "text/plain": [
       "0.5608782978159732"
      ]
     },
     "execution_count": 29,
     "metadata": {},
     "output_type": "execute_result"
    }
   ],
   "source": [
    "A = sub_indicators.loc[:,'agr_dependency_gw':'ind_dependency_gw']\n",
    "st=A*0\n",
    "\n",
    "# eigen=PCA(A)\n",
    "# eigenvalues=PCA(A)[0]\n",
    "# eigenvector=PCA(A)[1]\n",
    "\n",
    "# loading=eigenvector*0\n",
    "# for i in range(len(eigenvalue)):\n",
    "#     loading[i]=np.multiply(eigenvector[i],(eigenvalue[i]**0.5))\n",
    "# a=eigenvector*0\n",
    "# b=eigenvector*0\n",
    "# for i in range(len(eigenvalue)):\n",
    "#     a[i]=np.square(eigenvector[i])\n",
    "#     for j in range(len(a[i])):\n",
    "#         temp=np.sum(a[i])\n",
    "#         b[i][j]=np.divide(a[i][j],temp).round(4)\n",
    "\n",
    "\n",
    "    "
   ]
  },
  {
   "cell_type": "code",
   "execution_count": 23,
   "metadata": {},
   "outputs": [
    {
     "data": {
      "text/plain": [
       "array([1.31327202e-01, 5.72919725e-02, 1.00602948e-01, 3.55314215e-02,\n",
       "       3.19834745e-02, 8.17409188e-03, 1.02085292e-03, 3.33282363e-02,\n",
       "       1.61974526e-02, 3.59474045e-06, 5.76770559e-01, 7.60396708e-03,\n",
       "       1.64227083e-04])"
      ]
     },
     "execution_count": 23,
     "metadata": {},
     "output_type": "execute_result"
    }
   ],
   "source": [
    "b[2]"
   ]
  },
  {
   "cell_type": "markdown",
   "metadata": {},
   "source": []
  },
  {
   "cell_type": "code",
   "execution_count": 19,
   "metadata": {},
   "outputs": [
    {
     "data": {
      "text/plain": [
       "array([[-3.46944695e-17,  3.46944695e-16,  1.17961196e-16,\n",
       "        -3.16126264e-06, -2.60208521e-17,  1.80411242e-16,\n",
       "        -2.08166817e-16,  1.86482774e-17,  1.91329467e+00,\n",
       "         9.71445147e-17,  3.03148036e-05, -2.49980436e-05,\n",
       "         0.00000000e+00],\n",
       "       [-1.38777878e-17,  4.33680869e-16,  2.91433544e-16,\n",
       "         2.58377984e-06,  1.66533454e-16,  2.22044605e-16,\n",
       "         1.38777878e-16, -9.36750677e-17,  2.27200746e-05,\n",
       "        -1.11022302e-16, -4.28883696e-05,  1.73889165e+00,\n",
       "        -2.77555756e-17],\n",
       "       [-5.37764278e-17,  2.71701064e-16,  1.28369537e-16,\n",
       "        -4.78791619e-06,  7.11236625e-17,  1.04083409e-16,\n",
       "         3.79470760e-18,  8.84166872e-17, -2.35459582e-05,\n",
       "         4.42354486e-17,  1.48611411e+00,  3.66541288e-05,\n",
       "        -6.02816408e-17],\n",
       "       [ 6.93889390e-17,  8.04911693e-16, -7.21644966e-16,\n",
       "         1.20000551e+00,  4.16333634e-17, -1.11022302e-16,\n",
       "        -8.32667268e-17, -3.29597460e-17,  1.98263805e-06,\n",
       "        -5.55111512e-17,  3.86621580e-06, -1.78299164e-06,\n",
       "        -4.16333634e-17]])"
      ]
     },
     "execution_count": 19,
     "metadata": {},
     "output_type": "execute_result"
    }
   ],
   "source": [
    "              \n",
    "\n",
    "def varimax(Phi, gamma = 1.0, q = 20, tol = 1e-6):\n",
    "    p,k = Phi.shape\n",
    "    R = eye(k)\n",
    "    d=0\n",
    "    for i in range(q):\n",
    "        d_old = d\n",
    "        Lambda = dot(Phi, R)\n",
    "        u,s,vh = svd(dot(Phi.T,asarray(Lambda)**3 - (gamma/p) * dot(Lambda, diag(diag(dot(Lambda.T,Lambda))))))\n",
    "        R = dot(u,vh)\n",
    "        d = sum(s)\n",
    "        if d_old!=0 and d/d_old < 1 + tol: break\n",
    "    return dot(Phi, R)\n",
    "var=varimax(loading[0:4])\n",
    "# for i in range(13):\n",
    "#     print(np.where(abs(eigenvector[i])==abs(eigenvector[i]).max()))\n",
    "#     print(np.where(abs(var[i])==abs(var[i]).max()))\n",
    "#     print('')\n",
    "var"
   ]
  },
  {
   "cell_type": "code",
   "execution_count": null,
   "metadata": {},
   "outputs": [],
   "source": []
  }
 ],
 "metadata": {
  "kernelspec": {
   "display_name": "Python 3",
   "language": "python",
   "name": "python3"
  },
  "language_info": {
   "codemirror_mode": {
    "name": "ipython",
    "version": 3
   },
   "file_extension": ".py",
   "mimetype": "text/x-python",
   "name": "python",
   "nbconvert_exporter": "python",
   "pygments_lexer": "ipython3",
   "version": "3.8.5"
  }
 },
 "nbformat": 4,
 "nbformat_minor": 4
}
