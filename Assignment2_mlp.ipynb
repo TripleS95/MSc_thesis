{
 "cells": [
  {
   "cell_type": "code",
   "execution_count": null,
   "metadata": {},
   "outputs": [],
   "source": [
    "import matplotlib.pyplot as plt\n",
    "import mplleaflet\n",
    "import pandas as pd"
   ]
  },
  {
   "cell_type": "code",
   "execution_count": null,
   "metadata": {},
   "outputs": [],
   "source": [
    "#need to fix this code because the question is asking for days of year only!\n",
    "df=pd.read_csv('data/C2A2_data/BinnedCsvs_d400/fb441e62df2d58994928907a91895ec62c2c42e6cd075c2700843b89.csv')\n",
    "maxtemp=df.groupby('Date')[\"Data_Value\"].max()/10\n",
    "maxtemp.sort_index(inplace=True)\n",
    "mintemp=df.groupby('Date')[\"Data_Value\"].min()/10\n",
    "mintemp.sort_index(inplace=True)\n",
    "maxtemp.index=pd.to_datetime(maxtemp.index)\n",
    "mintemp.index=pd.to_datetime(mintemp.index)\n",
    "mintemp=mintemp.to_frame().reset_index()\n",
    "maxtemp=maxtemp.to_frame().reset_index()\n",
    "min_temp=mintemp[mintemp['Date'].dt.year<2015]\n",
    "max_temp=maxtemp[maxtemp['Date'].dt.year<2015]\n",
    "min_temp.set_index('Date',drop=True,inplace=True)\n",
    "max_temp.set_index('Date',drop=True,inplace=True)\n",
    "min_temp.sort_index(inplace=True)\n",
    "max_temp.sort_index(inplace=True)\n",
    "plt.figure(figsize=(20,8))\n",
    "plt.plot(max_temp.index, max_temp,'-.')\n",
    "plt.plot(min_temp.index, min_temp,'-.')\n",
    "plt.xlabel('Date')\n",
    "plt.ylabel('Temperature (C)')\n",
    "plt.title('Highest and Lowest Daily Temperatures Recorded')\n",
    "plt.legend(['Record Highs','Record Lows'])\n",
    "plt.gca().fill_between(min_temp.index, min_temp['Data_Value'], max_temp['Data_Value'], facecolor='grey', alpha=0.4)\n",
    "plt.show()"
   ]
  },
  {
   "cell_type": "code",
   "execution_count": null,
   "metadata": {},
   "outputs": [],
   "source": []
  }
 ],
 "metadata": {
  "kernelspec": {
   "display_name": "Python 3",
   "language": "python",
   "name": "python3"
  },
  "language_info": {
   "codemirror_mode": {
    "name": "ipython",
    "version": 3
   },
   "file_extension": ".py",
   "mimetype": "text/x-python",
   "name": "python",
   "nbconvert_exporter": "python",
   "pygments_lexer": "ipython3",
   "version": "3.8.5"
  }
 },
 "nbformat": 4,
 "nbformat_minor": 4
}
