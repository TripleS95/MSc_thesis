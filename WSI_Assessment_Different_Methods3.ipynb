{
 "cells": [
  {
   "cell_type": "code",
   "execution_count": 1,
   "metadata": {},
   "outputs": [],
   "source": [
    "import numpy as np\n",
    "import pandas as pd\n",
    "from pandas import ExcelWriter\n",
    "from pandas import ExcelFile"
   ]
  },
  {
   "cell_type": "code",
   "execution_count": 2,
   "metadata": {},
   "outputs": [],
   "source": [
    "# Reading & Cleaning sub indicators\n",
    "Sub=pd.read_excel('sub_indicators_081421.xlsx')\n",
    "Sub.index=Sub['province']\n",
    "Sub.drop('province',axis='columns',inplace=True)\n",
    "\n"
   ]
  },
  {
   "cell_type": "code",
   "execution_count": 3,
   "metadata": {},
   "outputs": [],
   "source": [
    "def Standardize(Ser):\n",
    "    result=(Ser-Ser.mean())/Ser.std()\n",
    "    return result\n",
    "\n",
    "ind_type=pd.read_excel(r'D:\\Personal\\University\\Master\\Thesis\\Aggregation-Weighting\\indicator_type.xlsx',sheet_name='Sheet1')\n",
    "ind_type.drop('pop_growth',axis=1,inplace=True)\n",
    "ind_type.drop([0,1],axis=0,inplace=True)\n",
    "ind_type['withdraw_gw_ratio']='l'\n",
    "ind_type['damcap_rwr_ratio']='b'\n",
    "ind_type.index=['type']\n",
    "\n",
    "Standardized_data=pd.DataFrame(index=Sub.index)\n",
    "for col in Sub.columns:\n",
    "    if ind_type.loc['type',col]=='b':\n",
    "        Standardized_data[col]=Standardize(Sub.loc[:,col])\n",
    "    else:\n",
    "        Standardized_data[col]=Standardize(-Sub.loc[:,col])    \n",
    "res_sub_columns=['ACV','MCV','Dag','Dan','GWDagr','GWDind','GWDurb','GWDrur','SWS','GWS','APA','ATA','IRWR']\n",
    "acc_sub_columns=['WAurb','WArur','USP','SAurb','SArur','TPC','WQ','DC']\n",
    "eco_sub_columns=['AE','MI','EL','NRWurb','NRWrur','IE']\n",
    "sub_columns=res_sub_columns+acc_sub_columns+eco_sub_columns \n",
    "Standardized_data.columns=sub_columns"
   ]
  },
  {
   "cell_type": "code",
   "execution_count": 4,
   "metadata": {},
   "outputs": [],
   "source": [
    "# Reading Normalized indicators based on Phillis method\n",
    "Normalized_main=pd.read_excel('Normalized Sub Indicators.xlsx')\n",
    "Normalized_main.drop(1,axis='index',inplace=True)\n",
    "Normalized_main.columns=Normalized_main.iloc[0,:]\n",
    "Normalized_main.drop(0,axis='index',inplace=True)\n",
    "Normalized_main.rename({'Indicator':'province'},axis='columns',inplace=True)\n",
    "Normalized_main.index=Normalized_main['province']\n",
    "Normalized_main.drop('province',axis='columns',inplace=True)\n",
    "sub_columns1_list= ['R1','R1','R2','R2','R3','R3','R3','R3','R4','R4','R5','R5','R7']+['A1','A1','A1','A2','A2','A2','A3','A3']+['E1','E1','E1','E2','E2','E3']\n",
    "sub_columns2_list=list(Normalized_main.columns)"
   ]
  },
  {
   "cell_type": "code",
   "execution_count": 5,
   "metadata": {},
   "outputs": [],
   "source": [
    "arrayeco=['E1','E1','E1','E2','E2','E3','E3','E3']\n",
    "arrayacc=['A1','A1','A1','A2','A2','A2','A3','A3','A3','A3']\n",
    "arrayres=['R1','R1','R2','R2','R3','R3','R3','R3','R4','R4','R5','R5','R5','R6','R6','R7','R7','R7','R7']\n",
    "arraywsi=['WSI','WSI','WSI']\n",
    "Agg_lvl=arraywsi+arrayres+arrayacc+arrayeco"
   ]
  },
  {
   "cell_type": "code",
   "execution_count": 6,
   "metadata": {},
   "outputs": [
    {
     "data": {
      "text/html": [
       "<div>\n",
       "<style scoped>\n",
       "    .dataframe tbody tr th:only-of-type {\n",
       "        vertical-align: middle;\n",
       "    }\n",
       "\n",
       "    .dataframe tbody tr th {\n",
       "        vertical-align: top;\n",
       "    }\n",
       "\n",
       "    .dataframe thead th {\n",
       "        text-align: right;\n",
       "    }\n",
       "</style>\n",
       "<table border=\"1\" class=\"dataframe\">\n",
       "  <thead>\n",
       "    <tr style=\"text-align: right;\">\n",
       "      <th>Indicator</th>\n",
       "      <th>Eagr</th>\n",
       "      <th>NRW</th>\n",
       "      <th>IP</th>\n",
       "    </tr>\n",
       "  </thead>\n",
       "  <tbody>\n",
       "    <tr>\n",
       "      <th>weights</th>\n",
       "      <td>0.1467</td>\n",
       "      <td>0.3962</td>\n",
       "      <td>0.4571</td>\n",
       "    </tr>\n",
       "  </tbody>\n",
       "</table>\n",
       "</div>"
      ],
      "text/plain": [
       "Indicator    Eagr     NRW      IP\n",
       "weights    0.1467  0.3962  0.4571"
      ]
     },
     "execution_count": 6,
     "metadata": {},
     "output_type": "execute_result"
    }
   ],
   "source": [
    "#PCA weights df\n",
    "PCA_weights=pd.read_csv('PCA_weights.csv')\n",
    "PCA_weights.drop('Unnamed: 0',axis=1,inplace=True)\n",
    "multi_columns=[Agg_lvl]+[list(PCA_weights.iloc[0])]\n",
    "PCA_weights.columns=pd.MultiIndex.from_arrays(multi_columns, names=('Aggregation Level', 'Indicator'))\n",
    "PCA_weights.drop(0,inplace=True)\n",
    "PCA_weights.index=['weights']\n",
    "PCA_weights=PCA_weights.astype('float')\n",
    "PCA_weights['E3']"
   ]
  },
  {
   "cell_type": "code",
   "execution_count": 7,
   "metadata": {},
   "outputs": [],
   "source": [
    "#AHP weights df\n",
    "AHP_weights=pd.read_csv('AHP_weights.csv')\n",
    "AHP_weights.drop('Aggregation Level',axis=1,inplace=True)\n",
    "multi_columns=[Agg_lvl]+[list(AHP_weights.iloc[0])]\n",
    "AHP_weights.columns=pd.MultiIndex.from_arrays(multi_columns, names=('Aggregation Level', 'Indicator'))\n",
    "AHP_weights.drop(0,inplace=True)\n",
    "AHP_weights.index=['weights']\n",
    "AHP_weights=AHP_weights.astype('float')"
   ]
  },
  {
   "cell_type": "code",
   "execution_count": 8,
   "metadata": {},
   "outputs": [],
   "source": [
    "#Equal weights df\n",
    "Equal_weights=AHP_weights*0\n",
    "agg=set(Agg_lvl)\n",
    "for col in agg:\n",
    "    size=Equal_weights[col].size\n",
    "    Equal_weights[col]=1/size\n",
    "Equal_weights=Equal_weights.round(decimals=2)\n",
    "Equal_weights=Equal_weights.astype('float')"
   ]
  },
  {
   "cell_type": "code",
   "execution_count": 9,
   "metadata": {},
   "outputs": [],
   "source": [
    "# Defining Aggregation Method\n",
    "def weighted_agg(dfi,dfw,method='addgeo',a=0.5):\n",
    "    weight_array=np.array(dfw)[0]\n",
    "    dfmin=dfi.min(axis=1)\n",
    "    weighted_sum=dfi.multiply(weight_array,axis='columns').sum(axis=1)\n",
    "    weighted_geomean=dfi.pow(weight_array,axis='columns').product(axis='columns')\n",
    "    if method=='addgeo':\n",
    "        result= a*weighted_geomean+(1-a)*weighted_sum\n",
    "    elif method=='addmin':\n",
    "        result=a*dfmin+(1-a)*weighted_sum\n",
    "    elif method=='geomin':\n",
    "        result=a*dfmin+(1-a)*weighted_geomean\n",
    "    return result"
   ]
  },
  {
   "cell_type": "code",
   "execution_count": 10,
   "metadata": {},
   "outputs": [],
   "source": [
    "# changing columns into multi index\n",
    "arraycolumns=[sub_columns1_list]+[sub_columns2_list]\n",
    "Normalized_main.columns=pd.MultiIndex.from_arrays(arraycolumns, names=('Aggregation Level', 'Indicator'))\n",
    "Standardized_data.columns=pd.MultiIndex.from_arrays(arraycolumns, names=('Aggregation Level', 'Indicator'))\n"
   ]
  },
  {
   "cell_type": "code",
   "execution_count": 11,
   "metadata": {},
   "outputs": [],
   "source": [
    "def WSI_df(normalized_df,standardized_df,AHP_df,PCA_df,Equal_df,weighting='AHP',aggmethod='addmin',scaling='normalize', a=0.5):\n",
    "    if weighting=='AHP':\n",
    "        weights_df=AHP_df\n",
    "    elif weighting=='PCA':\n",
    "        weights_df=PCA_df\n",
    "    elif weighting=='Equal':\n",
    "        weights_df=Equal_df\n",
    "        \n",
    "    if scaling=='normalize':\n",
    "        data=normalized_df\n",
    "    elif scaling=='standardize':\n",
    "        data=standardized_df    \n",
    "    \n",
    "    Scaled_lvl2=pd.DataFrame(normalized_df[('R4','SWS')]*0,index=normalized_df.index)\n",
    "    Scaled_lvl2.columns=pd.MultiIndex.from_arrays([['R5'],['CV']], names=('Aggregation Level', 'Indicator'))\n",
    "    Scaled_lvl2[('R5','CV')]=weighted_agg(normalized_df.loc[:,'R1'],weights_df['R1'],aggmethod,a).round(decimals=4)\n",
    "    Scaled_lvl2[('R6','GD')]=weighted_agg(normalized_df.loc[:,'R2'],weights_df['R2'],aggmethod,a).round(decimals=4)\n",
    "    Scaled_lvl2[('R6','GWD')]=weighted_agg(normalized_df.loc[:,'R3'],weights_df['R3'],aggmethod,a).round(decimals=4)\n",
    "\n",
    "    indicators=pd.DataFrame(data[('R4','SWS')]*0,index=data.index)\n",
    "    indicators.columns=pd.MultiIndex.from_arrays([['Resource'],['IRWR']], names=('Dimension', 'Indicator'))\n",
    "    indicators[('Resource','IRWR')]=data.loc[:,('R7','IRWR')]\n",
    "    indicators[('Resource','CC')]=weighted_agg(Scaled_lvl2['R5'].merge(data['R5'], left_index=True, right_index=True,how='outer'),weights_df['R5'],aggmethod,a).round(decimals=4)\n",
    "    indicators[('Resource','WS')]=weighted_agg(data.loc[:,'R4'],weights_df['R4'],aggmethod,a).round(decimals=4)\n",
    "    indicators.loc[Scaled_lvl2[('R6','GD')]<0.8,('Resource','GW')]=weighted_agg(Scaled_lvl2.loc[:,'R6'],weights_df['R6'],aggmethod,a).round(decimals=4)\n",
    "    indicators.loc[Scaled_lvl2[('R6','GD')]>0.8,('Resource','GW')]=Scaled_lvl2.loc[:,('R6','GD')]\n",
    "    indicators[('Access','DW')]=weighted_agg(normalized_df.loc[:,'A1'],weights_df['A1'],aggmethod,a).round(decimals=4)\n",
    "    indicators[('Access','WQ')]=data.loc[:,('A3','WQ')]\n",
    "    indicators[('Access','DC')]=data.loc[:,('A3','DC')]\n",
    "    indicators[('Access','SS')]=weighted_agg(data.loc[:,'A2'],weights_df['A2'],aggmethod,a).round(decimals=4)\n",
    "    indicators[('Economy','Eagr')]=weighted_agg(data.loc[:,'E1'],weights_df['E1'],aggmethod,a).round(decimals=4)\n",
    "    indicators[('Economy','IE')]=data.loc[:,('E3','IE')]\n",
    "    indicators[('Economy','NRW')]=weighted_agg(data.loc[:,'E2'],weights_df['E2'],aggmethod,a).round(decimals=4)\n",
    "    Dimensions=pd.DataFrame(index=data.index)\n",
    "    Dimensions['Resource']=weighted_agg(indicators[('Resource')],weights_df['R7'],aggmethod,a).round(decimals=4)\n",
    "    Dimensions['Access']=weighted_agg(indicators[('Access')],weights_df['A3'],aggmethod,a).round(decimals=4)\n",
    "    Dimensions['Economy']=weighted_agg(indicators[('Economy')],weights_df['E3'],aggmethod,a).round(decimals=4)\n",
    "    Dimensions['WSI']=weighted_agg(Dimensions,weights_df['WSI'],aggmethod,a).round(decimals=4)\n",
    "    return Dimensions\n"
   ]
  },
  {
   "cell_type": "code",
   "execution_count": 18,
   "metadata": {},
   "outputs": [],
   "source": [
    "comparison_index=list(Normalized_main.index)+['Aggregation_method','Weighting_method','Scaling_method','alpha']\n",
    "WSI_methods=pd.DataFrame(index=comparison_index)\n",
    "# def WSI_df(normalized_df,standardized_df,AHP_df,PCA_df,Equal_df,weighting='AHP',aggmethod='addmin',scaling='normalize', a=0.5)\n",
    "\n",
    "for agg in ['addmin','addgeo','geomin']:\n",
    "    for alpha in [0,0.1,0.2,0.3,0.4,0.5,0.6,0.7,0.8,0.9,1]:\n",
    "        for scale in ['normalize','standardize']:\n",
    "            for weight in ['AHP','PCA','Equal']:\n",
    "                if (agg=='addmin' and alpha == 1) or (agg=='geomin' and alpha == 1) or (agg=='addmin' and alpha == 0):\n",
    "                    pass\n",
    "                else:\n",
    "                    name=agg+\"_\"+weight+'_'+scale+'_'+str(alpha)\n",
    "                    WSI_methods.loc['azsh':'yazd',name]=WSI_df(Normalized_main,Standardized_data,AHP_weights,PCA_weights,Equal_weights,weighting=weight,aggmethod=agg,scaling=scale,a=alpha)['WSI']\n",
    "                    WSI_methods.loc['Aggregation_method',name]=agg\n",
    "                    WSI_methods.loc['Weighting_method',name]=weight\n",
    "                    WSI_methods.loc['Scaling_method',name]=scale\n",
    "                    WSI_methods.loc['alpha',name]=alpha\n",
    "WSI_ranks=WSI_methods.loc['azsh':'yazd',:].rank(ascending=False)"
   ]
  },
  {
   "cell_type": "code",
   "execution_count": null,
   "metadata": {},
   "outputs": [],
   "source": [
    "# agg_cond1=(WSI_methods.loc['Aggregation_method',:]=='addmin') & (WSI_methods.loc['alpha',:]!=0)\n",
    "# addmin_avg_change=(WSI_ranks.loc[:,agg_cond1].max(axis=1)-WSI_ranks.loc[:,agg_cond1].min(axis=1)).mean()\n",
    "# agg_cond2=(WSI_methods.loc['Aggregation_method',:]=='addgeo') & (WSI_methods.loc['alpha',:]==0)\n",
    "# add_avg_change=(WSI_ranks.loc[:,agg_cond2].max(axis=1)-WSI_ranks.loc[:,agg_cond2].min(axis=1)).mean()\n",
    "# agg_cond3=(WSI_methods.loc['Aggregation_method',:]=='addgeo') & (WSI_methods.loc['alpha',:]==1)\n",
    "# geo_avg_change=(WSI_ranks.loc[:,agg_cond3].max(axis=1)-WSI_ranks.loc[:,agg_cond3].min(axis=1)).mean()\n",
    "# agg_cond4=(WSI_methods.loc['Aggregation_method',:]=='addgeo') & (WSI_methods.loc['alpha',:]!=1) & (WSI_methods.loc['alpha',:]!=0)\n",
    "# addgeo_avg_change=(WSI_ranks.loc[:,agg_cond4].max(axis=1)-WSI_ranks.loc[:,agg_cond4].min(axis=1)).mean()\n",
    "\n",
    "# weight_cond1=WSI_methods.loc['Weighting_method',:]=='AHP'\n",
    "# AHP_avg_change=(WSI_ranks.loc[:,weight_cond1].max(axis=1)-WSI_ranks.loc[:,weight_cond1].min(axis=1)).mean()\n",
    "# AHP_avg_change"
   ]
  },
  {
   "cell_type": "code",
   "execution_count": 16,
   "metadata": {},
   "outputs": [
    {
     "data": {
      "image/png": "[encoded data removed]",
      "text/plain": [
       "<Figure size 432x288 with 1 Axes>"
      ]
     },
     "metadata": {
      "needs_background": "light"
     },
     "output_type": "display_data"
    }
   ],
   "source": [
    "import matplotlib.pyplot as plt\n",
    "WSI_ranks['Mean']=WSI_ranks.mean(axis=1)\n",
    "df=WSI_ranks.sort_values('Mean').transpose()\n",
    "fig, ax = plt.subplots()\n",
    "plt.cla()\n",
    "plt.rcParams[\"figure.figsize\"] = (16,9)\n",
    "ax.set_title('Province Rank Changes')\n",
    "medianprops = dict(linestyle='-', linewidth=2, color='black')\n",
    "ax.boxplot(df, showfliers=False,widths=0.13,labels=df.columns,medianprops =medianprops)\n",
    "plt.xticks(rotation=90)\n",
    "plt.rcParams.update({'font.size': 18})\n",
    "ax.set_xlim(0,35)\n",
    "# plt.savefig('Rank Changes Closer(0.1 intervals).png')\n",
    "plt.show()"
   ]
  },
  {
   "cell_type": "code",
   "execution_count": 17,
   "metadata": {},
   "outputs": [
    {
     "data": {
      "text/plain": [
       "azsh     20\n",
       "azgh     16\n",
       "arda     24\n",
       "esfe     26\n",
       "albo     23\n",
       "ilam     24\n",
       "bush     28\n",
       "tehr     30\n",
       "chba     23\n",
       "khoj     20\n",
       "khor     16\n",
       "khosh    16\n",
       "khuz     30\n",
       "zanj     27\n",
       "semn     17\n",
       "sisba    22\n",
       "fars     22\n",
       "qazv     30\n",
       "qom      10\n",
       "kord     20\n",
       "kerm     16\n",
       "kersh    30\n",
       "kohbu    30\n",
       "gole     24\n",
       "gilan    26\n",
       "lores     8\n",
       "mazan    16\n",
       "marka    30\n",
       "hormo    21\n",
       "hame     24\n",
       "yazd     23\n",
       "dtype: int32"
      ]
     },
     "execution_count": 17,
     "metadata": {},
     "output_type": "execute_result"
    }
   ],
   "source": [
    "temp=pd.DataFrame(index=WSI_ranks.index)\n",
    "temp['First_Quartile']=0\n",
    "temp['Third_Quartile']=0\n",
    "for i in temp.index:\n",
    "    temp.loc[i,'First_Quartile']=(np.percentile(WSI_ranks.loc[i,:], 25)).astype(int)\n",
    "    temp.loc[i,'Third_Quartile']=(np.percentile(WSI_ranks.loc[i,:], 75)).astype(int)\n",
    "temp['IQR']=(temp['Third_Quartile']-temp['First_Quartile'])\n",
    "temp['Upper_Limit']=(temp['Third_Quartile']+1.5*temp['IQR']).astype(int)\n",
    "temp['Lower_Limit']=(temp['First_Quartile']-1.5*temp['IQR']).astype(int)\n",
    "temp.loc[temp['Lower_Limit']<1,'Lower_Limit']=1\n",
    "temp.loc[temp['Upper_Limit']>31,'Upper_Limit']=31\n",
    "\n",
    "WSI_ranks['Maximum']=WSI_ranks.max(axis=1)\n",
    "WSI_ranks['Minimum']=WSI_ranks.min(axis=1)\n",
    "WSI_ranks['Mean']=WSI_ranks.mean(axis=1)\n",
    "WSI_ranks['Median']=WSI_ranks.median(axis=1)\n",
    "WSI_ranks=WSI_ranks.astype(int)\n",
    "for i in WSI_ranks.columns:\n",
    "    WSI_ranks.loc[WSI_ranks.loc[:,i]>temp['Upper_Limit'],i]=temp['Upper_Limit']\n",
    "    WSI_ranks.loc[WSI_ranks.loc[:,i]<temp['Lower_Limit'],i]=temp['Lower_Limit']\n",
    "temp['Upper_Limit']-temp['Lower_Limit']"
   ]
  },
  {
   "cell_type": "code",
   "execution_count": 46,
   "metadata": {},
   "outputs": [
    {
     "data": {
      "text/plain": [
       "azsh     21\n",
       "azgh     18\n",
       "arda     26\n",
       "esfe     29\n",
       "albo     31\n",
       "ilam     25\n",
       "bush     31\n",
       "tehr     30\n",
       "chba     24\n",
       "khoj     31\n",
       "khor     31\n",
       "khosh    26\n",
       "khuz     31\n",
       "zanj     30\n",
       "semn     31\n",
       "sisba    31\n",
       "fars     23\n",
       "qazv     31\n",
       "qom      31\n",
       "kord     21\n",
       "kerm     31\n",
       "kersh    29\n",
       "kohbu    29\n",
       "gole     30\n",
       "gilan    26\n",
       "lores     9\n",
       "mazan    17\n",
       "marka    25\n",
       "hormo    22\n",
       "hame     30\n",
       "yazd     31\n",
       "Name: Maximum, dtype: int32"
      ]
     },
     "execution_count": 46,
     "metadata": {},
     "output_type": "execute_result"
    }
   ],
   "source": [
    "WSI_ranks['Maximum']"
   ]
  },
  {
   "cell_type": "code",
   "execution_count": 47,
   "metadata": {},
   "outputs": [
    {
     "data": {
      "text/plain": [
       "azsh      8\n",
       "azgh     10\n",
       "arda     14\n",
       "esfe     13\n",
       "albo     21\n",
       "ilam     11\n",
       "bush     19\n",
       "tehr     20\n",
       "chba      8\n",
       "khoj     24\n",
       "khor     26\n",
       "khosh    18\n",
       "khuz     22\n",
       "zanj     18\n",
       "semn     24\n",
       "sisba    23\n",
       "fars     12\n",
       "qazv     18\n",
       "qom      27\n",
       "kord      8\n",
       "kerm     24\n",
       "kersh    12\n",
       "kohbu    13\n",
       "gole     17\n",
       "gilan     9\n",
       "lores     3\n",
       "mazan     5\n",
       "marka     8\n",
       "hormo     5\n",
       "hame     18\n",
       "yazd     23\n",
       "Name: Mean, dtype: int32"
      ]
     },
     "execution_count": 47,
     "metadata": {},
     "output_type": "execute_result"
    }
   ],
   "source": [
    "WSI_ranks['Mean']"
   ]
  },
  {
   "cell_type": "code",
   "execution_count": 48,
   "metadata": {},
   "outputs": [
    {
     "data": {
      "text/plain": [
       "azsh      8\n",
       "azgh     10\n",
       "arda     14\n",
       "esfe     13\n",
       "albo     22\n",
       "ilam     12\n",
       "bush     18\n",
       "tehr     22\n",
       "chba      7\n",
       "khoj     26\n",
       "khor     29\n",
       "khosh    18\n",
       "khuz     25\n",
       "zanj     18\n",
       "semn     25\n",
       "sisba    24\n",
       "fars     12\n",
       "qazv     21\n",
       "qom      30\n",
       "kord      7\n",
       "kerm     25\n",
       "kersh     9\n",
       "kohbu    13\n",
       "gole     18\n",
       "gilan     7\n",
       "lores     3\n",
       "mazan     4\n",
       "marka     7\n",
       "hormo     3\n",
       "hame     20\n",
       "yazd     26\n",
       "Name: Median, dtype: int32"
      ]
     },
     "execution_count": 48,
     "metadata": {},
     "output_type": "execute_result"
    }
   ],
   "source": [
    "WSI_ranks['Median']"
   ]
  },
  {
   "cell_type": "code",
   "execution_count": 50,
   "metadata": {},
   "outputs": [
    {
     "data": {
      "text/plain": [
       "azsh     20\n",
       "azgh     15\n",
       "arda     20\n",
       "esfe     27\n",
       "albo     25\n",
       "ilam     24\n",
       "bush     28\n",
       "tehr     29\n",
       "chba     23\n",
       "khoj     20\n",
       "khor     16\n",
       "khosh    16\n",
       "khuz     26\n",
       "zanj     26\n",
       "semn     17\n",
       "sisba    22\n",
       "fars     22\n",
       "qazv     30\n",
       "qom      10\n",
       "kord     20\n",
       "kerm     16\n",
       "kersh    28\n",
       "kohbu    28\n",
       "gole     24\n",
       "gilan    24\n",
       "lores     8\n",
       "mazan    16\n",
       "marka    24\n",
       "hormo    21\n",
       "hame     24\n",
       "yazd     23\n",
       "dtype: int32"
      ]
     },
     "execution_count": 50,
     "metadata": {},
     "output_type": "execute_result"
    }
   ],
   "source": [
    "WSI_ranks['Maximum']-WSI_ranks['Minimum']"
   ]
  }
 ],
 "metadata": {
  "kernelspec": {
   "display_name": "Python 3",
   "language": "python",
   "name": "python3"
  },
  "language_info": {
   "codemirror_mode": {
    "name": "ipython",
    "version": 3
   },
   "file_extension": ".py",
   "mimetype": "text/x-python",
   "name": "python",
   "nbconvert_exporter": "python",
   "pygments_lexer": "ipython3",
   "version": "3.8.5"
  }
 },
 "nbformat": 4,
 "nbformat_minor": 4
}
