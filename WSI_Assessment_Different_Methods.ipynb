{
 "cells": [
  {
   "cell_type": "code",
   "execution_count": 1,
   "metadata": {},
   "outputs": [],
   "source": [
    "import numpy as np\n",
    "import pandas as pd\n",
    "from pandas import ExcelWriter\n",
    "from pandas import ExcelFile"
   ]
  },
  {
   "cell_type": "code",
   "execution_count": 2,
   "metadata": {},
   "outputs": [],
   "source": [
    "# Reading & Cleaning sub indicators\n",
    "Sub=pd.read_excel('sub_indicators_081421.xlsx')\n",
    "Sub.index=Sub['province']\n",
    "Sub.drop('province',axis='columns',inplace=True)\n",
    "\n"
   ]
  },
  {
   "cell_type": "code",
   "execution_count": 3,
   "metadata": {},
   "outputs": [],
   "source": [
    "def Standardize(Ser):\n",
    "    result=(Ser-Ser.mean())/Ser.std()\n",
    "    return result\n",
    "\n",
    "ind_type=pd.read_excel(r'D:\\Personal\\University\\Master\\Thesis\\Aggregation-Weighting\\indicator_type.xlsx',sheet_name='Sheet1')\n",
    "ind_type.drop('pop_growth',axis=1,inplace=True)\n",
    "ind_type.drop([0,1],axis=0,inplace=True)\n",
    "ind_type['withdraw_gw_ratio']='l'\n",
    "ind_type['damcap_rwr_ratio']='b'\n",
    "ind_type.index=['type']\n",
    "\n",
    "Standardized_data=pd.DataFrame(index=Sub.index)\n",
    "for col in Sub.columns:\n",
    "    if ind_type.loc['type',col]=='b':\n",
    "        Standardized_data[col]=Standardize(Sub.loc[:,col])\n",
    "    else:\n",
    "        Standardized_data[col]=Standardize(-Sub.loc[:,col])    \n",
    "res_sub_columns=['ACV','MCV','Dag','Dan','GWDagr','GWDind','GWDurb','GWDrur','SWS','GWS','APA','ATA','IRWR']\n",
    "acc_sub_columns=['WAurb','WArur','USP','SAurb','SArur','TPC','WQ','DC']\n",
    "eco_sub_columns=['AE','MI','EL','NRWurb','NRWrur','IE']\n",
    "sub_columns=res_sub_columns+acc_sub_columns+eco_sub_columns \n",
    "Standardized_data.columns=sub_columns"
   ]
  },
  {
   "cell_type": "code",
   "execution_count": 4,
   "metadata": {},
   "outputs": [],
   "source": [
    "# Reading Normalized indicators based on Phillis method\n",
    "Normalized_main=pd.read_excel('Normalized Sub Indicators.xlsx')\n",
    "Normalized_main.drop(1,axis='index',inplace=True)\n",
    "Normalized_main.columns=Normalized_main.iloc[0,:]\n",
    "Normalized_main.drop(0,axis='index',inplace=True)\n",
    "Normalized_main.rename({'Indicator':'province'},axis='columns',inplace=True)\n",
    "Normalized_main.index=Normalized_main['province']\n",
    "Normalized_main.drop('province',axis='columns',inplace=True)\n",
    "sub_columns1_list= ['R1','R1','R2','R2','R3','R3','R3','R3','R4','R4','R5','R5','R7']+['A1','A1','A1','A2','A2','A2','A3','A3']+['E1','E1','E1','E2','E2','E3']\n",
    "sub_columns2_list=list(Normalized_main.columns)"
   ]
  },
  {
   "cell_type": "code",
   "execution_count": 5,
   "metadata": {},
   "outputs": [],
   "source": [
    "arrayeco=['E1','E1','E1','E2','E2','E3','E3','E3']\n",
    "arrayacc=['A1','A1','A1','A2','A2','A2','A3','A3','A3','A3']\n",
    "arrayres=['R1','R1','R2','R2','R3','R3','R3','R3','R4','R4','R5','R5','R5','R6','R6','R7','R7','R7','R7']\n",
    "arraywsi=['WSI','WSI','WSI']\n",
    "Agg_lvl=arraywsi+arrayres+arrayacc+arrayeco"
   ]
  },
  {
   "cell_type": "code",
   "execution_count": 6,
   "metadata": {},
   "outputs": [],
   "source": [
    "#PCA weights df\n",
    "PCA_weights=pd.read_csv('PCA_weights.csv')\n",
    "PCA_weights.drop('Unnamed: 0',axis=1,inplace=True)\n",
    "multi_columns=[Agg_lvl]+[list(PCA_weights.iloc[0])]\n",
    "PCA_weights.columns=pd.MultiIndex.from_arrays(multi_columns, names=('Aggregation Level', 'Indicator'))\n",
    "PCA_weights.drop(0,inplace=True)\n",
    "PCA_weights.index=['weights']\n",
    "PCA_weights=PCA_weights.astype('float')"
   ]
  },
  {
   "cell_type": "code",
   "execution_count": 7,
   "metadata": {},
   "outputs": [],
   "source": [
    "#AHP weights df\n",
    "AHP_weights=pd.read_csv('AHP_weights.csv')\n",
    "AHP_weights.drop('Aggregation Level',axis=1,inplace=True)\n",
    "multi_columns=[Agg_lvl]+[list(AHP_weights.iloc[0])]\n",
    "AHP_weights.columns=pd.MultiIndex.from_arrays(multi_columns, names=('Aggregation Level', 'Indicator'))\n",
    "AHP_weights.drop(0,inplace=True)\n",
    "AHP_weights.index=['weights']\n",
    "AHP_weights=AHP_weights.astype('float')"
   ]
  },
  {
   "cell_type": "code",
   "execution_count": 8,
   "metadata": {},
   "outputs": [],
   "source": [
    "#Equal weights df\n",
    "Equal_weights=AHP_weights*0\n",
    "agg=set(Agg_lvl)\n",
    "for col in agg:\n",
    "    size=Equal_weights[col].size\n",
    "    Equal_weights[col]=1/size\n",
    "Equal_weights=Equal_weights.round(decimals=2)\n",
    "Equal_weights=Equal_weights.astype('float')"
   ]
  },
  {
   "cell_type": "code",
   "execution_count": 9,
   "metadata": {},
   "outputs": [],
   "source": [
    "# Defining Aggregation Methods\n",
    "def weighted_addminagg(dfi,dfw,a=0.5):\n",
    "    weight_array=np.array(dfw)[0]\n",
    "    dfmin=dfi.min(axis=1)\n",
    "    weighted_sum=dfi.multiply(weight_array,axis='columns').sum(axis=1)\n",
    "    result=a*dfmin+(1-a)*weighted_sum\n",
    "    return result\n",
    "\n",
    "def weighted_addgeo(dfi,dfw,a=0.5):\n",
    "    weight_array=np.array(dfw)[0]\n",
    "    weighted_geomean=dfi.pow(weight_array,axis='columns').product(axis='columns')\n",
    "    weighted_sum=dfi.multiply(weight_array,axis='columns').sum(axis=1)\n",
    "    result= a*weighted_geomean+(1-a)*weighted_sum\n",
    "    return result"
   ]
  },
  {
   "cell_type": "code",
   "execution_count": 10,
   "metadata": {},
   "outputs": [],
   "source": [
    "# changing columns into multi index\n",
    "arraycolumns=[sub_columns1_list]+[sub_columns2_list]\n",
    "Normalized_main.columns=pd.MultiIndex.from_arrays(arraycolumns, names=('Aggregation Level', 'Indicator'))\n",
    "Standardized_data.columns=pd.MultiIndex.from_arrays(arraycolumns, names=('Aggregation Level', 'Indicator'))\n"
   ]
  },
  {
   "cell_type": "code",
   "execution_count": 11,
   "metadata": {},
   "outputs": [],
   "source": [
    "def norm_lvl2_addmin(normalized_df,weights_df,a=0.5):\n",
    "    normalized_lvl2=pd.DataFrame(normalized_df[('R4','SWS')]*0,index=normalized_df.index)\n",
    "    normalized_lvl2.columns=pd.MultiIndex.from_arrays([['R5'],['CV']], names=('Aggregation Level', 'Indicator'))\n",
    "    normalized_lvl2[('R5','CV')]=weighted_addminagg(normalized_df.loc[:,'R1'],weights_df['R1'],a).round(decimals=4)\n",
    "    normalized_lvl2[('R6','GD')]=weighted_addminagg(normalized_df.loc[:,'R2'],weights_df['R2'],a).round(decimals=4)\n",
    "    normalized_lvl2[('R6','GWD')]=weighted_addminagg(normalized_df.loc[:,'R3'],weights_df['R3'],a).round(decimals=4)\n",
    "    return normalized_lvl2\n",
    "def norm_lvl2_addgeo(normalized_df,weights_df,a=0.5):\n",
    "    normalized_lvl2=pd.DataFrame(normalized_df[('R4','SWS')]*0,index=normalized_df.index)\n",
    "    normalized_lvl2.columns=pd.MultiIndex.from_arrays([['R5'],['CV']], names=('Aggregation Level', 'Indicator'))\n",
    "    normalized_lvl2[('R5','CV')]=weighted_addgeo(normalized_df.loc[:,'R1'],weights_df['R1'],a).round(decimals=4)\n",
    "    normalized_lvl2[('R6','GD')]=weighted_addgeo(normalized_df.loc[:,'R2'],weights_df['R2'],a).round(decimals=4)\n",
    "    normalized_lvl2[('R6','GWD')]=weighted_addgeo(normalized_df.loc[:,'R3'],weights_df['R3'],a).round(decimals=4)\n",
    "    return normalized_lvl2\n"
   ]
  },
  {
   "cell_type": "code",
   "execution_count": 12,
   "metadata": {},
   "outputs": [],
   "source": [
    "# def indicators_df_addmin(normalized_df,weights_df,a=0.5):\n",
    "#     normalized_lvl2=norm_lvl2_addmin(normalized_df,weights_df,a=0.5)\n",
    "#     indicators=pd.DataFrame(normalized_df[('R4','SWS')]*0,index=normalized_df.index)\n",
    "#     indicators.columns=pd.MultiIndex.from_arrays([['Resource'],['IRWR']], names=('Dimension', 'Indicator'))\n",
    "#     indicators[('Resource','IRWR')]=normalized_df.loc[:,('R7','IRWR')]\n",
    "#     indicators[('Resource','CC')]=weighted_addminagg(normalized_lvl2['R5'].merge(normalized_df['R5'], left_index=True, right_index=True,how='outer'),weights_df['R5']).round(decimals=4)\n",
    "#     indicators[('Resource','WS')]=weighted_addminagg(normalized_df.loc[:,'R4'],weights_df['R4']).round(decimals=4)\n",
    "#     indicators.loc[normalized_lvl2[('R6','GD')]<0.8,('Resource','GW')]=weighted_addminagg(normalized_lvl2.loc[:,'R6'],weights_df['R6']).round(decimals=4)\n",
    "#     indicators.loc[normalized_lvl2[('R6','GD')]>0.8,('Resource','GW')]=normalized_lvl2.loc[:,('R6','GD')]\n",
    "#     indicators[('Access','DW')]=weighted_addminagg(normalized_df.loc[:,'A1'],weights_df['A1']).round(decimals=4)\n",
    "#     indicators[('Access','WQ')]=normalized_df.loc[:,('A3','WQ')]\n",
    "#     indicators[('Access','DC')]=normalized_df.loc[:,('A3','DC')]\n",
    "#     indicators[('Access','SS')]=weighted_addminagg(normalized_df.loc[:,'A2'],weights_df['A2']).round(decimals=4)\n",
    "#     indicators[('Economy','Eagr')]=weighted_addminagg(normalized_df.loc[:,'E1'],weights_df['E1']).round(decimals=4)\n",
    "#     indicators[('Economy','IE')]=normalized_df.loc[:,('E3','IE')]\n",
    "#     indicators[('Economy','NRW')]=weighted_addminagg(normalized_df.loc[:,'E2'],weights_df['E2']).round(decimals=4)\n",
    "#     Dimensions=pd.DataFrame(index=normalized_df.index)\n",
    "#     Dimensions['Resource']=weighted_addminagg(indicators[('Resource')],weights_df['R7']).round(decimals=4)\n",
    "#     Dimensions['Access']=weighted_addminagg(indicators[('Access')],weights_df['A3']).round(decimals=4)\n",
    "#     Dimensions['Economy']=weighted_addminagg(indicators[('Economy')],weights_df['E3']).round(decimals=4)\n",
    "#     Dimensions['WSI']=weighted_addminagg(Dimensions,weights_df['WSI']).round(decimals=4                \n",
    "#     return (indicators,Dimensions)\n",
    "\n",
    "# def indicators_df_addgeo(normalized_df,weights_df,a=0.5):\n",
    "#     normalized_lvl2=norm_lvl2_addmin(normalized_df,weights_df,a=0.5)\n",
    "#     indicators=pd.DataFrame(normalized_df[('R4','SWS')]*0,index=normalized_df.index)\n",
    "#     indicators.columns=pd.MultiIndex.from_arrays([['Resource'],['IRWR']], names=('Dimension', 'Indicator'))\n",
    "#     indicators[('Resource','IRWR')]=normalized_df.loc[:,('R7','IRWR')]\n",
    "#     indicators[('Resource','CC')]=weighted_addgeo(normalized_lvl2['R5'].merge(normalized_df['R5'], left_index=True, right_index=True,how='outer'),weights_df['R5']).round(decimals=4)\n",
    "#     indicators[('Resource','WS')]=weighted_addgeo(normalized_df.loc[:,'R4'],weights_df['R4']).round(decimals=4)\n",
    "#     # if a province has low groundwater reservoir deficit then high dependency on groundwater is considered okay i.e. if GD> 0.8 then GWD not involved in aggregation\n",
    "#     indicators.loc[normalized_lvl2[('R6','GD')]<0.8,('Resource','GW')]=weighted_addgeo(normalized_lvl2.loc[:,'R6'],weights_df['R6']).round(decimals=4)\n",
    "#     indicators.loc[normalized_lvl2[('R6','GD')]>0.8,('Resource','GW')]=normalized_lvl2.loc[:,('R6','GD')]\n",
    "#     indicators[('Access','DW')]=weighted_addgeo(normalized_df.loc[:,'A1'],weights_df['A1']).round(decimals=4)\n",
    "#     indicators[('Access','WQ')]=normalized_df.loc[:,('A3','WQ')]\n",
    "#     indicators[('Access','DC')]=normalized_df.loc[:,('A3','DC')]\n",
    "#     indicators[('Access','SS')]=weighted_addgeo(normalized_df.loc[:,'A2'],weights_df['A2']).round(decimals=4)\n",
    "#     indicators[('Economy','Eagr')]=weighted_addgeo(normalized_df.loc[:,'E1'],weights_df['E1']).round(decimals=4)\n",
    "#     indicators[('Economy','IE')]=normalized_df.loc[:,('E3','IE')]\n",
    "#     indicators[('Economy','NRW')]=weighted_addgeo(normalized_df.loc[:,'E2'],weights_df['E2']).round(decimals=4)\n",
    "#     Dimensions=pd.DataFrame(index=normalized_df.index)\n",
    "#     Dimensions['Resource']=weighted_addgeo(indicators[('Resource')],weights_df['R7']).round(decimals=4)\n",
    "#     Dimensions['Access']=weighted_addgeo(indicators[('Access')],weights_df['A3']).round(decimals=4)\n",
    "#     Dimensions['Economy']=weighted_addgeo(indicators[('Economy')],weights_df['E3']).round(decimals=4)\n",
    "#     Dimensions['WSI']=weighted_addgeo(Dimensions,weights_df['WSI']).round(decimals=4)\n",
    "#     return (indicators,Dimensions)"
   ]
  },
  {
   "cell_type": "code",
   "execution_count": 13,
   "metadata": {},
   "outputs": [],
   "source": [
    "def indicators_df(normalized_df,standardized_df,AHP_df,PCA_df,Equal_df,weighting='AHP',aggmethod='addmin',scaling='normalize', a=0.5):\n",
    "    \n",
    "    if weighting=='AHP':\n",
    "        weights_df=AHP_df\n",
    "    elif weighting=='PCA':\n",
    "        weights_df=PCA_df\n",
    "    elif weighting=='Equal':\n",
    "        weights_df=Equal_df\n",
    "        \n",
    "    if scaling=='normalize':\n",
    "        data=normalized_df\n",
    "    elif scaling=='standardize':\n",
    "        data=standardized_df\n",
    "        \n",
    "    if aggmethod=='addmin':\n",
    "        normalized_lvl2=norm_lvl2_addmin(data,weights_df,0.5)\n",
    "        indicators=pd.DataFrame(data[('R4','SWS')]*0,index=data.index)\n",
    "        indicators.columns=pd.MultiIndex.from_arrays([['Resource'],['IRWR']], names=('Dimension', 'Indicator'))\n",
    "        indicators[('Resource','IRWR')]=data.loc[:,('R7','IRWR')]\n",
    "        indicators[('Resource','CC')]=weighted_addminagg(normalized_lvl2['R5'].merge(data['R5'], left_index=True, right_index=True,how='outer'),weights_df['R5']).round(decimals=4)\n",
    "        indicators[('Resource','WS')]=weighted_addminagg(data.loc[:,'R4'],weights_df['R4']).round(decimals=4)\n",
    "        indicators.loc[normalized_lvl2[('R6','GD')]<0.8,('Resource','GW')]=weighted_addminagg(normalized_lvl2.loc[:,'R6'],weights_df['R6']).round(decimals=4)\n",
    "        indicators.loc[normalized_lvl2[('R6','GD')]>0.8,('Resource','GW')]=normalized_lvl2.loc[:,('R6','GD')]\n",
    "        indicators[('Access','DW')]=weighted_addminagg(normalized_df.loc[:,'A1'],weights_df['A1']).round(decimals=4)\n",
    "        indicators[('Access','WQ')]=data.loc[:,('A3','WQ')]\n",
    "        indicators[('Access','DC')]=data.loc[:,('A3','DC')]\n",
    "        indicators[('Access','SS')]=weighted_addminagg(data.loc[:,'A2'],weights_df['A2']).round(decimals=4)\n",
    "        indicators[('Economy','Eagr')]=weighted_addminagg(data.loc[:,'E1'],weights_df['E1']).round(decimals=4)\n",
    "        indicators[('Economy','IE')]=data.loc[:,('E3','IE')]\n",
    "        indicators[('Economy','NRW')]=weighted_addminagg(data.loc[:,'E2'],weights_df['E2']).round(decimals=4)\n",
    "        Dimensions=pd.DataFrame(index=data.index)\n",
    "        Dimensions['Resource']=weighted_addminagg(indicators[('Resource')],weights_df['R7']).round(decimals=4)\n",
    "        Dimensions['Access']=weighted_addminagg(indicators[('Access')],weights_df['A3']).round(decimals=4)\n",
    "        Dimensions['Economy']=weighted_addminagg(indicators[('Economy')],weights_df['E3']).round(decimals=4)\n",
    "        Dimensions['WSI']=weighted_addminagg(Dimensions,weights_df['WSI']).round(decimals=4)\n",
    "    elif aggmethod=='addgeo':\n",
    "        normalized_lvl2=norm_lvl2_addmin(data,weights_df,a)\n",
    "        indicators=pd.DataFrame(data[('R4','SWS')]*0,index=data.index)\n",
    "        indicators.columns=pd.MultiIndex.from_arrays([['Resource'],['IRWR']], names=('Dimension', 'Indicator'))\n",
    "        indicators[('Resource','IRWR')]=data.loc[:,('R7','IRWR')]\n",
    "        indicators[('Resource','CC')]=weighted_addgeo(normalized_lvl2['R5'].merge(normalized_df['R5'], left_index=True, right_index=True,how='outer'),weights_df['R5'],a).round(decimals=4)\n",
    "        indicators[('Resource','WS')]=weighted_addgeo(normalized_df.loc[:,'R4'],weights_df['R4']).round(decimals=4)\n",
    "        indicators.loc[normalized_lvl2[('R6','GD')]<0.8,('Resource','GW')]=weighted_addgeo(normalized_lvl2.loc[:,'R6'],weights_df['R6'],a).round(decimals=4)\n",
    "        indicators.loc[normalized_lvl2[('R6','GD')]>0.8,('Resource','GW')]=normalized_lvl2.loc[:,('R6','GD')]\n",
    "        indicators[('Access','DW')]=weighted_addgeo(data.loc[:,'A1'],weights_df['A1'],a).round(decimals=4)\n",
    "        indicators[('Access','WQ')]=data.loc[:,('A3','WQ')]\n",
    "        indicators[('Access','DC')]=data.loc[:,('A3','DC')]\n",
    "        indicators[('Access','SS')]=weighted_addgeo(data.loc[:,'A2'],weights_df['A2'],a).round(decimals=4)\n",
    "        indicators[('Economy','Eagr')]=weighted_addgeo(data.loc[:,'E1'],weights_df['E1'],a).round(decimals=4)\n",
    "        indicators[('Economy','IE')]=data.loc[:,('E3','IE')]\n",
    "        indicators[('Economy','NRW')]=weighted_addgeo(data.loc[:,'E2'],weights_df['E2'],a).round(decimals=4)\n",
    "        Dimensions=pd.DataFrame(index=data.index)\n",
    "        Dimensions['Resource']=weighted_addgeo(indicators[('Resource')],weights_df['R7'],a).round(decimals=4)\n",
    "        Dimensions['Access']=weighted_addgeo(indicators[('Access')],weights_df['A3'],a).round(decimals=4)\n",
    "        Dimensions['Economy']=weighted_addgeo(indicators[('Economy')],weights_df['E3'],a).round(decimals=4)\n",
    "        Dimensions['WSI']=weighted_addgeo(Dimensions,weights_df['WSI'],a).round(decimals=4)        \n",
    "    return (indicators,Dimensions)"
   ]
  },
  {
   "cell_type": "code",
   "execution_count": 17,
   "metadata": {},
   "outputs": [],
   "source": [
    "comparison_index=list(Normalized_main.index)+['Aggregation_method','Weighting_method','Scaling_method','alpha']\n",
    "WSI_methods=pd.DataFrame(index=comparison_index)\n",
    "\n",
    "\n",
    "for agg in ['addmin','addgeo']:\n",
    "    for alpha in [0.0.2,0.4,0.5,0.6,0.8,1]:\n",
    "        for scale in ['normalize','standardize']:\n",
    "            for weight in ['AHP','PCA','Equal']:\n",
    "                if (agg=='addmin' and alpha == 0):\n",
    "                    pass\n",
    "                else:\n",
    "                    name=agg+\"_\"+weight+'_'+scale+'_'+str(alpha)\n",
    "                    WSI_methods.loc['azsh':'yazd',name]=indicators_df(Normalized_main,Standardized_data,AHP_weights,PCA_weights,Equal_weights,weighting=weight,aggmethod=agg,scaling=scale,a=alpha)[1]['WSI']\n",
    "                    WSI_methods.loc['Aggregation_method',name]=agg\n",
    "                    WSI_methods.loc['Weighting_method',name]=weight\n",
    "                    WSI_methods.loc['Scaling_method',name]=scale\n",
    "                    WSI_methods.loc['alpha',name]=alpha\n",
    "# WSI_methods.to_excel('WSI_methods(0-0.5-1).xlsx')"
   ]
  },
  {
   "cell_type": "code",
   "execution_count": 19,
   "metadata": {},
   "outputs": [],
   "source": [
    "WSI_ranks=WSI_methods.loc['azsh':'yazd',:].rank(ascending=False)\n",
    "# WSI_ranks.to_excel('Ranks in different methods((0-0.5-1)).xlsx')"
   ]
  },
  {
   "cell_type": "code",
   "execution_count": 33,
   "metadata": {},
   "outputs": [
    {
     "data": {
      "image/png": "[encoded data removed]",
      "text/plain": [
       "<Figure size 1800x720 with 1 Axes>"
      ]
     },
     "metadata": {
      "needs_background": "light"
     },
     "output_type": "display_data"
    }
   ],
   "source": [
    "import matplotlib.pyplot as plt\n",
    "df=WSI_ranks.sort_values('addmin_AHP_normalize_0.5').transpose()\n",
    "fig, ax = plt.subplots()\n",
    "plt.cla()\n",
    "plt.rcParams[\"figure.figsize\"] = (25,8)\n",
    "ax.set_title('Province Rank Changes')\n",
    "medianprops = dict(linestyle='-', linewidth=2, color='black')\n",
    "ax.boxplot(df, showfliers=False,widths=0.13,labels=df.columns,medianprops =medianprops)\n",
    "plt.xticks(rotation=90)\n",
    "plt.rcParams.update({'font.size': 18})\n",
    "ax.set_xlim(0,35)\n",
    "# plt.savefig('Rank Changes Closer(0.2 intervals).png')\n",
    "plt.show()"
   ]
  },
  {
   "cell_type": "code",
   "execution_count": null,
   "metadata": {},
   "outputs": [],
   "source": []
  }
 ],
 "metadata": {
  "kernelspec": {
   "display_name": "Python 3",
   "language": "python",
   "name": "python3"
  },
  "language_info": {
   "codemirror_mode": {
    "name": "ipython",
    "version": 3
   },
   "file_extension": ".py",
   "mimetype": "text/x-python",
   "name": "python",
   "nbconvert_exporter": "python",
   "pygments_lexer": "ipython3",
   "version": "3.8.5"
  }
 },
 "nbformat": 4,
 "nbformat_minor": 4
}
