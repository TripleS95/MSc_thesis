{
 "cells": [
  {
   "cell_type": "code",
   "execution_count": 1,
   "metadata": {},
   "outputs": [],
   "source": [
    "import pandas as pd"
   ]
  },
  {
   "cell_type": "code",
   "execution_count": 2,
   "metadata": {},
   "outputs": [],
   "source": [
    "# Read Data\n",
    "data=pd.read_excel('Cleaned_Sale_Data.xlsx',sheet_name='sale_data')\n",
    "ID_dict=pd.read_excel('Cleaned_Sale_Data.xlsx',sheet_name='Id_Dict')\n",
    "\n",
    "# Clean Data\n",
    "data.set_index(data['ID'],inplace=True)\n",
    "data.drop('ID',axis=1,inplace=True)\n",
    "sale_data=data.iloc[:,4:]\n",
    "sale_data.set_index(data.index,inplace=True)\n",
    "sale_data[sale_data.isnull()]=0"
   ]
  },
  {
   "cell_type": "code",
   "execution_count": 3,
   "metadata": {},
   "outputs": [],
   "source": [
    "# extracting seasonal data\n",
    "i=-1\n",
    "years=[]\n",
    "spring_cols=[]\n",
    "summer_cols=[]\n",
    "fall_cols=[]\n",
    "winter_cols=[]\n",
    "last_m='1399/04'\n",
    "\n",
    "for dt in sale_data.columns:\n",
    "    i+=1\n",
    "    if int(dt[:4]+dt[5:])>int(last_m[:4]+last_m[5:]):\n",
    "        last_m=dt\n",
    "    if dt[:4] not in years:\n",
    "        years.append(int(dt[:4]))\n",
    "    if dt[5:] in ['01','02','03']:\n",
    "        spring_cols.append(dt)\n",
    "    elif dt[5:] in ['04','05','06']:\n",
    "        summer_cols.append(dt)\n",
    "    elif dt[5:] in ['07','08','09']:\n",
    "        fall_cols.append(dt) \n",
    "    elif dt[5:] in ['10','11','12']:\n",
    "        winter_cols.append(dt)\n",
    "        \n",
    "\n",
    "        "
   ]
  },
  {
   "cell_type": "code",
   "execution_count": 4,
   "metadata": {},
   "outputs": [],
   "source": [
    "m=7\n",
    "y=1400\n",
    "same_month=[]\n",
    "same_year=[]\n",
    "\n",
    "for month in sale_data.columns:\n",
    "    cond_m=month[5:]\n",
    "    cond_y=month[:4]\n",
    "    if cond_m==str(m).zfill(2):\n",
    "        same_month.append(month)\n",
    "    if cond_y==str(y):\n",
    "        same_year.append(month)\n",
    "          \n",
    "averages_df=pd.DataFrame(index=sale_data.index)\n",
    "averages_df.loc[:,'same_month_avg']=sale_data.loc[:,same_month].mean(axis=1)\n",
    "averages_df.loc[:,'same_year_avg']=sale_data.loc[:,same_year].mean(axis=1)\n",
    "averages_df.loc[:,'same_season_avg']=sale_data.loc[:,same_year].mean(axis=1)\n",
    "\n"
   ]
  },
  {
   "cell_type": "code",
   "execution_count": 6,
   "metadata": {},
   "outputs": [
    {
     "data": {
      "text/plain": [
       "'07'"
      ]
     },
     "execution_count": 6,
     "metadata": {},
     "output_type": "execute_result"
    }
   ],
   "source": []
  }
 ],
 "metadata": {
  "kernelspec": {
   "display_name": "Python 3",
   "language": "python",
   "name": "python3"
  },
  "language_info": {
   "codemirror_mode": {
    "name": "ipython",
    "version": 3
   },
   "file_extension": ".py",
   "mimetype": "text/x-python",
   "name": "python",
   "nbconvert_exporter": "python",
   "pygments_lexer": "ipython3",
   "version": "3.8.5"
  }
 },
 "nbformat": 4,
 "nbformat_minor": 4
}
