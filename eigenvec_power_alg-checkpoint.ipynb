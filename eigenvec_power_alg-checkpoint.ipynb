{
 "cells": [
  {
   "cell_type": "code",
   "execution_count": 79,
   "metadata": {},
   "outputs": [],
   "source": [
    "import numpy as np\n",
    "from scipy.sparse.linalg import eigs\n",
    "A=np.matrix([[1,3,5,3],[1/8,1,5/3,7],[0.2,3/5,5,3/5],[1/3,1/7,5/3,1]])"
   ]
  },
  {
   "cell_type": "code",
   "execution_count": 80,
   "metadata": {},
   "outputs": [
    {
     "data": {
      "text/plain": [
       "array([0.42255751, 0.23175954, 0.23676657, 0.10891638])"
      ]
     },
     "execution_count": 80,
     "metadata": {},
     "output_type": "execute_result"
    }
   ],
   "source": [
    "val,vec=eigs(A,k=1,which='LM')\n",
    "B=np.linalg.matrix_power((A.copy()/val.real),11)\n",
    "vec=np.transpose(abs(vec.real))[0]\n",
    "vec/(vec.sum())"
   ]
  },
  {
   "cell_type": "code",
   "execution_count": 81,
   "metadata": {},
   "outputs": [
    {
     "data": {
      "text/plain": [
       "array([[0.42255753, 0.42255752, 0.42255751, 0.42255753],\n",
       "       [0.23175954, 0.23175954, 0.23175953, 0.23175954],\n",
       "       [0.23676654, 0.23676656, 0.23676658, 0.23676654],\n",
       "       [0.10891638, 0.10891638, 0.10891638, 0.10891638]])"
      ]
     },
     "execution_count": 81,
     "metadata": {},
     "output_type": "execute_result"
    }
   ],
   "source": [
    "B=np.linalg.matrix_power(A.copy(),15)\n",
    "B=B.transpose()\n",
    "for i in range(4):\n",
    "    B[i]=(B[i])/(B[i].sum())\n",
    "B.transpose().round(8)"
   ]
  },
  {
   "cell_type": "code",
   "execution_count": null,
   "metadata": {},
   "outputs": [],
   "source": [
    "# **** the results from using scipy eig function & raising the initial matrix \n",
    "# to a large enough power and then normalizing the columns are the same. *****"
   ]
  }
 ],
 "metadata": {
  "kernelspec": {
   "display_name": "Python 3",
   "language": "python",
   "name": "python3"
  },
  "language_info": {
   "codemirror_mode": {
    "name": "ipython",
    "version": 3
   },
   "file_extension": ".py",
   "mimetype": "text/x-python",
   "name": "python",
   "nbconvert_exporter": "python",
   "pygments_lexer": "ipython3",
   "version": "3.8.5"
  }
 },
 "nbformat": 4,
 "nbformat_minor": 4
}
