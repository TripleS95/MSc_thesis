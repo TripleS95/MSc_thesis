{
 "cells": [
  {
   "cell_type": "code",
   "execution_count": 34,
   "metadata": {},
   "outputs": [],
   "source": [
    "import numpy as np\n",
    "import pandas as pd\n",
    "from pandas import ExcelWriter\n",
    "from pandas import ExcelFile"
   ]
  },
  {
   "cell_type": "code",
   "execution_count": 35,
   "metadata": {},
   "outputs": [],
   "source": [
    "data=pd.read_excel(r'D:\\Personal\\University\\Master\\Thesis\\Aggregation-Weighting\\data_values.xlsx',sheet_name='data_transpose')\n",
    "province=data.province\n",
    "\n",
    "temp=pd.read_excel(r'D:\\Personal\\University\\Master\\Thesis\\Aggregation-Weighting\\annual_data.xlsx',sheet_name='azsh')\n",
    "years=temp['syear']\n",
    "temperature=pd.DataFrame(columns=province)\n",
    "\n",
    "for prov in province:\n",
    "    temp=pd.read_excel(r'D:\\Personal\\University\\Master\\Thesis\\Aggregation-Weighting\\annual_data.xlsx',sheet_name=prov)\n",
    "    temperature[prov]=temp['tmean']\n",
    "temperature.index=years\n",
    "temperature.drop([1329,1399],axis=0,inplace=True)\n"
   ]
  },
  {
   "cell_type": "code",
   "execution_count": 36,
   "metadata": {},
   "outputs": [],
   "source": [
    "AT50=temperature.loc[1349:1399,:].mean(axis=0)\n",
    "AT10=temperature.loc[1389:1399,:].mean(axis=0)\n",
    "TA=(AT10-AT50)\n",
    "# TA.to_excel('temp_anomaly.xlsx')"
   ]
  },
  {
   "cell_type": "code",
   "execution_count": null,
   "metadata": {},
   "outputs": [],
   "source": []
  }
 ],
 "metadata": {
  "kernelspec": {
   "display_name": "Python 3",
   "language": "python",
   "name": "python3"
  },
  "language_info": {
   "codemirror_mode": {
    "name": "ipython",
    "version": 3
   },
   "file_extension": ".py",
   "mimetype": "text/x-python",
   "name": "python",
   "nbconvert_exporter": "python",
   "pygments_lexer": "ipython3",
   "version": "3.8.5"
  }
 },
 "nbformat": 4,
 "nbformat_minor": 4
}
