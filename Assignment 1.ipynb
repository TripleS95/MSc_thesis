{
 "cells": [
  {
   "cell_type": "markdown",
   "metadata": {},
   "source": [
    "Part A"
   ]
  },
  {
   "cell_type": "code",
   "execution_count": null,
   "metadata": {},
   "outputs": [],
   "source": [
    "import re\n",
    "def names():\n",
    "    simple_string = \"\"\"Amy is 5 years old, and her sister Mary is 2 years old. \n",
    "    Ruth and Peter, their parents, have 3 kids.\"\"\"\n",
    "\n",
    "    # YOUR CODE HERE\n",
    "#raise NotImplementedError()\n",
    "    pattern='[A-Z][\\w]*'\n",
    "    result=re.findall(pattern,simple_string)\n",
    "    return result\n",
    "    #raise NotImplementedError()"
   ]
  },
  {
   "cell_type": "markdown",
   "metadata": {},
   "source": [
    "Part B"
   ]
  },
  {
   "cell_type": "code",
   "execution_count": null,
   "metadata": {},
   "outputs": [],
   "source": [
    "import re\n",
    "def grades():\n",
    "    with open (\"assets/grades.txt\", \"r\") as file:\n",
    "        grades = file.read()\n",
    "    # YOUR CODE HERE\n",
    "#     raise NotImplementedError()\n",
    "    result=[]\n",
    "    pattern='([\\w ]*)(:\\ )(B)'\n",
    "    for item in re.finditer(pattern,grades):\n",
    "        result.append(item.group(1))\n",
    "    return result\n",
    "    "
   ]
  },
  {
   "cell_type": "code",
   "execution_count": null,
   "metadata": {},
   "outputs": [],
   "source": [
    "import re\n",
    "def logs():\n",
    "    with open(\"assets/logdata.txt\", \"r\") as file:\n",
    "        logdata = file.read()\n",
    "    # YOUR CODE HERE\n",
    "#     raise NotImplementedError()\n",
    "    result=[]\n",
    "    pattern='(?P<host>(\\d{1,3}\\.\\d{1,3}\\.\\d{1,3}\\.\\d{1,3}))(\\s+\\S+\\s+)(?P<user_name>\\S+)(\\s+\\[)(?P<time>(?<=\\[).*(?=\\]))(\\]\\ \\\")(?P<request>(?<=\\\").*(?=\\\"))'\n",
    "    for item in re.finditer(pattern,logdata):\n",
    "        result.append(item.groupdict())\n",
    "    return result"
   ]
  }
 ],
 "metadata": {
  "kernelspec": {
   "display_name": "Python 3",
   "language": "python",
   "name": "python3"
  },
  "language_info": {
   "codemirror_mode": {
    "name": "ipython",
    "version": 3
   },
   "file_extension": ".py",
   "mimetype": "text/x-python",
   "name": "python",
   "nbconvert_exporter": "python",
   "pygments_lexer": "ipython3",
   "version": "3.8.5"
  }
 },
 "nbformat": 4,
 "nbformat_minor": 4
}
